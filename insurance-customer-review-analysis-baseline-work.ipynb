{
 "cells": [
  {
   "cell_type": "markdown",
   "id": "4985d9d0",
   "metadata": {
    "papermill": {
     "duration": 0.004206,
     "end_time": "2025-04-29T07:19:23.566892",
     "exception": false,
     "start_time": "2025-04-29T07:19:23.562686",
     "status": "completed"
    },
    "tags": []
   },
   "source": [
    "\n",
    "This notebook performs **several NLP tasks** on the insurance customer reviews dataset:\n",
    "1. Exploratory Data Analysis (EDA)\n",
    "2. Sentiment Analysis (predicting 'sentiment')\n",
    "3. Rating Prediction (predicting 'rating')\n",
    "4. Text Classification (predicting 'insurance_type')\n",
    "5. Topic Modeling (identifying topics in 'review_text')"
   ]
  },
  {
   "cell_type": "markdown",
   "id": "dd30b721",
   "metadata": {
    "papermill": {
     "duration": 0.003057,
     "end_time": "2025-04-29T07:19:23.573436",
     "exception": false,
     "start_time": "2025-04-29T07:19:23.570379",
     "status": "completed"
    },
    "tags": []
   },
   "source": [
    "# Import"
   ]
  },
  {
   "cell_type": "code",
   "execution_count": 1,
   "id": "2dd659cc",
   "metadata": {
    "execution": {
     "iopub.execute_input": "2025-04-29T07:19:23.581450Z",
     "iopub.status.busy": "2025-04-29T07:19:23.580719Z",
     "iopub.status.idle": "2025-04-29T07:19:28.574803Z",
     "shell.execute_reply": "2025-04-29T07:19:28.574181Z"
    },
    "papermill": {
     "duration": 4.999705,
     "end_time": "2025-04-29T07:19:28.576348",
     "exception": false,
     "start_time": "2025-04-29T07:19:23.576643",
     "status": "completed"
    },
    "tags": []
   },
   "outputs": [],
   "source": [
    "\n",
    "import pandas as pd\n",
    "import numpy as np\n",
    "import matplotlib.pyplot as plt\n",
    "import seaborn as sns\n",
    "import re\n",
    "import string\n",
    "import nltk\n",
    "from nltk.corpus import stopwords\n",
    "from nltk.tokenize import word_tokenize\n",
    "from nltk.stem import PorterStemmer # Optional: for stemming\n",
    "\n",
    "from sklearn.model_selection import train_test_split\n",
    "from sklearn.feature_extraction.text import TfidfVectorizer, CountVectorizer\n",
    "from sklearn.naive_bayes import MultinomialNB\n",
    "from sklearn.linear_model import LogisticRegression\n",
    "from sklearn.svm import LinearSVC\n",
    "from sklearn.metrics import accuracy_score, classification_report, confusion_matrix, mean_absolute_error\n",
    "from sklearn.decomposition import LatentDirichletAllocation\n"
   ]
  },
  {
   "cell_type": "code",
   "execution_count": 2,
   "id": "47cd8d16",
   "metadata": {
    "execution": {
     "iopub.execute_input": "2025-04-29T07:19:28.585255Z",
     "iopub.status.busy": "2025-04-29T07:19:28.584808Z",
     "iopub.status.idle": "2025-04-29T07:19:28.627386Z",
     "shell.execute_reply": "2025-04-29T07:19:28.626647Z"
    },
    "papermill": {
     "duration": 0.048571,
     "end_time": "2025-04-29T07:19:28.628785",
     "exception": false,
     "start_time": "2025-04-29T07:19:28.580214",
     "status": "completed"
    },
    "tags": []
   },
   "outputs": [
    {
     "name": "stdout",
     "output_type": "stream",
     "text": [
      "Dataset loaded successfully.\n",
      "Shape: (400, 8)\n"
     ]
    }
   ],
   "source": [
    "\n",
    "# Download necessary NLTK data (if not already downloaded)\n",
    "try:\n",
    "    nltk.data.find('corpora/stopwords')\n",
    "except nltk.downloader.DownloadError:\n",
    "    nltk.download('stopwords')\n",
    "try:\n",
    "    nltk.data.find('tokenizers/punkt')\n",
    "except nltk.downloader.DownloadError:\n",
    "    nltk.download('punkt')\n",
    "\n",
    "# Set plot style\n",
    "sns.set_style('whitegrid')\n",
    "plt.rcParams['figure.figsize'] = (12, 7)\n",
    "\n",
    "# Load the dataset\n",
    "file_path = '/kaggle/input/insurance-customer-reviews-crm-action-plans/insurance_customer_reviews_gemini_enhanced.csv'\n",
    "try:\n",
    "    df = pd.read_csv(file_path)\n",
    "    print(\"Dataset loaded successfully.\")\n",
    "    print(f\"Shape: {df.shape}\")\n",
    "except FileNotFoundError:\n",
    "    print(f\"Error: File not found at {file_path}\")\n",
    "    print(\"Please ensure the file path is correct.\")"
   ]
  },
  {
   "cell_type": "markdown",
   "id": "15f1c2dd",
   "metadata": {
    "papermill": {
     "duration": 0.003307,
     "end_time": "2025-04-29T07:19:28.635623",
     "exception": false,
     "start_time": "2025-04-29T07:19:28.632316",
     "status": "completed"
    },
    "tags": []
   },
   "source": [
    "# Exploratory Data Analysis (EDA)"
   ]
  },
  {
   "cell_type": "code",
   "execution_count": 3,
   "id": "8d08f411",
   "metadata": {
    "execution": {
     "iopub.execute_input": "2025-04-29T07:19:28.643748Z",
     "iopub.status.busy": "2025-04-29T07:19:28.643488Z",
     "iopub.status.idle": "2025-04-29T07:19:28.698813Z",
     "shell.execute_reply": "2025-04-29T07:19:28.697804Z"
    },
    "papermill": {
     "duration": 0.061047,
     "end_time": "2025-04-29T07:19:28.700326",
     "exception": false,
     "start_time": "2025-04-29T07:19:28.639279",
     "status": "completed"
    },
    "tags": []
   },
   "outputs": [
    {
     "name": "stdout",
     "output_type": "stream",
     "text": [
      "\n",
      "Dataset Info:\n",
      "<class 'pandas.core.frame.DataFrame'>\n",
      "RangeIndex: 400 entries, 0 to 399\n",
      "Data columns (total 8 columns):\n",
      " #   Column         Non-Null Count  Dtype \n",
      "---  ------         --------------  ----- \n",
      " 0   ReviewID       400 non-null    int64 \n",
      " 1   CustomerID     400 non-null    int64 \n",
      " 2   ReviewDate     400 non-null    object\n",
      " 3   Rating         400 non-null    int64 \n",
      " 4   ReviewText     400 non-null    object\n",
      " 5   Sentiment      400 non-null    object\n",
      " 6   GeneratedTask  400 non-null    object\n",
      " 7   AIGenerated    400 non-null    bool  \n",
      "dtypes: bool(1), int64(3), object(4)\n",
      "memory usage: 22.4+ KB\n",
      "\n",
      "Descriptive Statistics (Numerical):\n",
      "         ReviewID  CustomerID      Rating\n",
      "count  400.000000  400.000000  400.000000\n",
      "mean   200.500000  180.187500    2.985000\n",
      "std    115.614301  101.159455    1.320657\n",
      "min      1.000000    2.000000    1.000000\n",
      "25%    100.750000   95.000000    2.000000\n",
      "50%    200.500000  177.500000    3.000000\n",
      "75%    300.250000  269.000000    4.000000\n",
      "max    400.000000  360.000000    5.000000\n",
      "\n",
      "Value Counts (Sentiment):\n",
      "Sentiment\n",
      "Positive    215\n",
      "Negative    138\n",
      "Neutral      47\n",
      "Name: count, dtype: int64\n",
      "\n",
      "Value Counts (Rating):\n",
      "Rating\n",
      "1     72\n",
      "2     66\n",
      "3    127\n",
      "4     66\n",
      "5     69\n",
      "Name: count, dtype: int64\n",
      "\n",
      "Missing Values:\n",
      "ReviewID         0\n",
      "CustomerID       0\n",
      "ReviewDate       0\n",
      "Rating           0\n",
      "ReviewText       0\n",
      "Sentiment        0\n",
      "GeneratedTask    0\n",
      "AIGenerated      0\n",
      "dtype: int64\n"
     ]
    }
   ],
   "source": [
    "\n",
    "\n",
    "# Display basic information\n",
    "print(\"\\nDataset Info:\")\n",
    "df.info()\n",
    "\n",
    "# Display descriptive statistics for numerical columns\n",
    "print(\"\\nDescriptive Statistics (Numerical):\")\n",
    "print(df.describe())\n",
    "\n",
    "# Display value counts for categorical columns\n",
    "print(\"\\nValue Counts (Sentiment):\")\n",
    "print(df['Sentiment'].value_counts())\n",
    "\n",
    "print(\"\\nValue Counts (Rating):\")\n",
    "print(df['Rating'].value_counts().sort_index())\n",
    "\n",
    "# Check for missing values\n",
    "print(\"\\nMissing Values:\")\n",
    "print(df.isnull().sum())"
   ]
  },
  {
   "cell_type": "code",
   "execution_count": 4,
   "id": "c2a90cb9",
   "metadata": {
    "execution": {
     "iopub.execute_input": "2025-04-29T07:19:28.708988Z",
     "iopub.status.busy": "2025-04-29T07:19:28.708752Z",
     "iopub.status.idle": "2025-04-29T07:19:29.023770Z",
     "shell.execute_reply": "2025-04-29T07:19:29.022875Z"
    },
    "papermill": {
     "duration": 0.321024,
     "end_time": "2025-04-29T07:19:29.025184",
     "exception": false,
     "start_time": "2025-04-29T07:19:28.704160",
     "status": "completed"
    },
    "tags": []
   },
   "outputs": [
    {
     "data": {
      "image/png": "[encoded data removed]",
      "text/plain": [
       "<Figure size 800x500 with 1 Axes>"
      ]
     },
     "metadata": {},
     "output_type": "display_data"
    }
   ],
   "source": [
    "# Distribution of Ratings\n",
    "plt.figure(figsize=(8, 5))\n",
    "sns.countplot(x='Rating', data=df, palette='viridis', order=sorted(df['Rating'].unique())) # --> Changed: rating -> Rating\n",
    "plt.title('Distribution of Customer Ratings')\n",
    "plt.xlabel('Rating (Stars)') # --> Changed: Rating -> Rating (Stars)\n",
    "plt.ylabel('Number of Reviews')\n",
    "plt.show()\n"
   ]
  },
  {
   "cell_type": "code",
   "execution_count": 5,
   "id": "8bf0cdca",
   "metadata": {
    "execution": {
     "iopub.execute_input": "2025-04-29T07:19:29.033847Z",
     "iopub.status.busy": "2025-04-29T07:19:29.033617Z",
     "iopub.status.idle": "2025-04-29T07:19:29.179827Z",
     "shell.execute_reply": "2025-04-29T07:19:29.178963Z"
    },
    "papermill": {
     "duration": 0.15167,
     "end_time": "2025-04-29T07:19:29.181054",
     "exception": false,
     "start_time": "2025-04-29T07:19:29.029384",
     "status": "completed"
    },
    "tags": []
   },
   "outputs": [
    {
     "data": {
      "image/png": "[encoded data removed]",
      "text/plain": [
       "<Figure size 800x500 with 1 Axes>"
      ]
     },
     "metadata": {},
     "output_type": "display_data"
    }
   ],
   "source": [
    "# Distribution of Sentiments\n",
    "plt.figure(figsize=(8, 5))\n",
    "sns.countplot(x='Sentiment', data=df, palette='magma', order=['Positive', 'Neutral', 'Negative']) # --> Changed: sentiment -> Sentiment\n",
    "plt.title('Distribution of Review Sentiments')\n",
    "plt.xlabel('Sentiment') # --> Changed: Sentiment -> Sentiment\n",
    "plt.ylabel('Number of Reviews')\n",
    "plt.show()\n"
   ]
  },
  {
   "cell_type": "markdown",
   "id": "f3fc2839",
   "metadata": {
    "papermill": {
     "duration": 0.003999,
     "end_time": "2025-04-29T07:19:29.189491",
     "exception": false,
     "start_time": "2025-04-29T07:19:29.185492",
     "status": "completed"
    },
    "tags": []
   },
   "source": [
    " # Text Preprocessing"
   ]
  },
  {
   "cell_type": "code",
   "execution_count": 6,
   "id": "d8a12411",
   "metadata": {
    "execution": {
     "iopub.execute_input": "2025-04-29T07:19:29.198176Z",
     "iopub.status.busy": "2025-04-29T07:19:29.197888Z",
     "iopub.status.idle": "2025-04-29T07:19:29.497356Z",
     "shell.execute_reply": "2025-04-29T07:19:29.496219Z"
    },
    "papermill": {
     "duration": 0.30548,
     "end_time": "2025-04-29T07:19:29.498762",
     "exception": false,
     "start_time": "2025-04-29T07:19:29.193282",
     "status": "completed"
    },
    "tags": []
   },
   "outputs": [
    {
     "name": "stdout",
     "output_type": "stream",
     "text": [
      "\n",
      "Preprocessing text...\n",
      "Text preprocessing complete.\n",
      "\n",
      "Sample processed text:\n",
      "                                          ReviewText  \\\n",
      "0  I recently switched my car insurance to Blue I...   \n",
      "1  I recently switched my car insurance to Blue I...   \n",
      "2  My recent interaction with Blue Insurance was....   \n",
      "3  I've been with Blue Insurance for several year...   \n",
      "4  I've been a Blue Insurance customer for over f...   \n",
      "5  I recently had a follow-up call from Blue Insu...   \n",
      "6  I've been a loyal customer of Blue Insurance f...   \n",
      "7  I recently had to navigate some rather complex...   \n",
      "8  I've been a Blue Insurance customer for severa...   \n",
      "9  I've been a Blue Insurance customer for over f...   \n",
      "\n",
      "                                      processed_text  \n",
      "0  recently switched car say start finish incredi...  \n",
      "1  recently switched car glad beginning process i...  \n",
      "2  recent interaction efficient give needed updat...  \n",
      "3  several years always generally happy service h...  \n",
      "4  five years generally happy coverage however re...  \n",
      "5  recently followup call regarding necessary doc...  \n",
      "6  loyal five years consistently paying premiums ...  \n",
      "7  recently navigate rather complex questions reg...  \n",
      "8  several years generally satisfied recent tryin...  \n",
      "9  five years generally satisfied however recentl...  \n"
     ]
    }
   ],
   "source": [
    "standard_stopwords = set(stopwords.words('english'))\n",
    "stemmer = PorterStemmer() # Optional stemmer\n",
    "\n",
    "\n",
    "custom_stopwords = ['insurance', 'policy', 'ive', 'company', 'name', 'im', 'experience', 'customer', 'customers', 'blue', 'ill']\n",
    "\n",
    "stop_words=standard_stopwords.union(set(custom_stopwords))\n",
    "\n",
    "def preprocess_text(text):\n",
    "    \"\"\"Cleans and preprocesses text data.\"\"\"\n",
    "    if not isinstance(text, str):\n",
    "        return \"\" # Return empty string for non-string inputs\n",
    "    text = text.lower() # Lowercase\n",
    "    text = re.sub(r'\\d+', '', text) # Remove numbers\n",
    "    text = text.translate(str.maketrans('', '', string.punctuation)) # Remove punctuation\n",
    "    text = text.strip() # Remove leading/trailing whitespace\n",
    "    tokens = word_tokenize(text) # Tokenize\n",
    "    # Remove stopwords and optionally stem\n",
    "    # processed_tokens = [stemmer.stem(word) for word in tokens if word not in stop_words] # With stemming\n",
    "    processed_tokens = [word for word in tokens if word not in stop_words] # Without stemming\n",
    "    return ' '.join(processed_tokens)\n",
    "\n",
    "# Apply preprocessing to the ReviewText column\n",
    "print(\"\\nPreprocessing text...\")\n",
    "df['processed_text'] = df['ReviewText'].apply(preprocess_text) # --> Changed: review_text -> ReviewText\n",
    "print(\"Text preprocessing complete.\")\n",
    "print(\"\\nSample processed text:\")\n",
    "print(df[['ReviewText', 'processed_text']].head(10)) # --> Changed: review_text -> ReviewText\n"
   ]
  },
  {
   "cell_type": "markdown",
   "id": "0d484224",
   "metadata": {
    "papermill": {
     "duration": 0.004222,
     "end_time": "2025-04-29T07:19:29.507493",
     "exception": false,
     "start_time": "2025-04-29T07:19:29.503271",
     "status": "completed"
    },
    "tags": []
   },
   "source": [
    "# Feature Engineering (TF-IDF)"
   ]
  },
  {
   "cell_type": "code",
   "execution_count": 7,
   "id": "b785fd39",
   "metadata": {
    "execution": {
     "iopub.execute_input": "2025-04-29T07:19:29.516941Z",
     "iopub.status.busy": "2025-04-29T07:19:29.516654Z",
     "iopub.status.idle": "2025-04-29T07:19:29.571051Z",
     "shell.execute_reply": "2025-04-29T07:19:29.570276Z"
    },
    "papermill": {
     "duration": 0.060868,
     "end_time": "2025-04-29T07:19:29.572322",
     "exception": false,
     "start_time": "2025-04-29T07:19:29.511454",
     "status": "completed"
    },
    "tags": []
   },
   "outputs": [
    {
     "name": "stdout",
     "output_type": "stream",
     "text": [
      "\n",
      "Creating TF-IDF features...\n",
      "TF-IDF features created.\n",
      "Shape of TF-IDF matrix: (400, 2794)\n"
     ]
    }
   ],
   "source": [
    "# Convert the processed text into numerical features using TF-IDF.\n",
    "\n",
    "# %%\n",
    "tfidf_vectorizer = TfidfVectorizer(max_features=5000) # Limit features to top 5000\n",
    "\n",
    "print(\"\\nCreating TF-IDF features...\")\n",
    "# Create TF-IDF matrix using the 'processed_text' column\n",
    "X_tfidf = tfidf_vectorizer.fit_transform(df['processed_text'])\n",
    "print(\"TF-IDF features created.\")\n",
    "print(f\"Shape of TF-IDF matrix: {X_tfidf.shape}\")\n"
   ]
  },
  {
   "cell_type": "markdown",
   "id": "7af754b3",
   "metadata": {
    "papermill": {
     "duration": 0.004189,
     "end_time": "2025-04-29T07:19:29.581203",
     "exception": false,
     "start_time": "2025-04-29T07:19:29.577014",
     "status": "completed"
    },
    "tags": []
   },
   "source": [
    "# Sentiment Analysis (Predicting Sentiment)"
   ]
  },
  {
   "cell_type": "code",
   "execution_count": 8,
   "id": "528edcb9",
   "metadata": {
    "execution": {
     "iopub.execute_input": "2025-04-29T07:19:29.590895Z",
     "iopub.status.busy": "2025-04-29T07:19:29.590648Z",
     "iopub.status.idle": "2025-04-29T07:19:29.946244Z",
     "shell.execute_reply": "2025-04-29T07:19:29.945414Z"
    },
    "papermill": {
     "duration": 0.36199,
     "end_time": "2025-04-29T07:19:29.947537",
     "exception": false,
     "start_time": "2025-04-29T07:19:29.585547",
     "status": "completed"
    },
    "tags": []
   },
   "outputs": [
    {
     "name": "stdout",
     "output_type": "stream",
     "text": [
      "\n",
      "--- Task 1: Sentiment Analysis ---\n",
      "Training Sentiment Analysis model (Logistic Regression)...\n",
      "Evaluating Sentiment Analysis model...\n",
      "\n",
      "Sentiment Analysis Accuracy: 0.9500\n",
      "Classification Report:\n",
      "              precision    recall  f1-score   support\n",
      "\n",
      "    Negative       1.00      1.00      1.00        34\n",
      "     Neutral       1.00      0.58      0.74        12\n",
      "    Positive       0.92      1.00      0.96        54\n",
      "\n",
      "    accuracy                           0.95       100\n",
      "   macro avg       0.97      0.86      0.90       100\n",
      "weighted avg       0.95      0.95      0.94       100\n",
      "\n"
     ]
    },
    {
     "data": {
      "image/png": "[encoded data removed]",
      "text/plain": [
       "<Figure size 800x600 with 2 Axes>"
      ]
     },
     "metadata": {},
     "output_type": "display_data"
    }
   ],
   "source": [
    "\n",
    "# %%\n",
    "print(\"\\n--- Task 1: Sentiment Analysis ---\")\n",
    "\n",
    "# Define features (X) and target (y)\n",
    "X_sentiment = X_tfidf\n",
    "y_sentiment = df['Sentiment'] # --> Changed: sentiment -> Sentiment\n",
    "\n",
    "# Split data\n",
    "X_train_sent, X_test_sent, y_train_sent, y_test_sent = train_test_split(\n",
    "    X_sentiment, y_sentiment, test_size=0.25, random_state=42, stratify=y_sentiment\n",
    ")\n",
    "\n",
    "# Train a Logistic Regression model\n",
    "print(\"Training Sentiment Analysis model (Logistic Regression)...\")\n",
    "model_sentiment = LogisticRegression(max_iter=1000, random_state=42)\n",
    "model_sentiment.fit(X_train_sent, y_train_sent)\n",
    "\n",
    "# Predict and evaluate\n",
    "print(\"Evaluating Sentiment Analysis model...\")\n",
    "y_pred_sent = model_sentiment.predict(X_test_sent)\n",
    "accuracy_sent = accuracy_score(y_test_sent, y_pred_sent)\n",
    "report_sent = classification_report(y_test_sent, y_pred_sent)\n",
    "\n",
    "print(f\"\\nSentiment Analysis Accuracy: {accuracy_sent:.4f}\")\n",
    "print(\"Classification Report:\")\n",
    "print(report_sent)\n",
    "\n",
    "# Confusion Matrix\n",
    "plt.figure(figsize=(8, 6))\n",
    "cm_sent = confusion_matrix(y_test_sent, y_pred_sent, labels=model_sentiment.classes_)\n",
    "sns.heatmap(cm_sent, annot=True, fmt='d', cmap='Blues', xticklabels=model_sentiment.classes_, yticklabels=model_sentiment.classes_)\n",
    "plt.title('Sentiment Analysis Confusion Matrix')\n",
    "plt.xlabel('Predicted Label')\n",
    "plt.ylabel('True Label')\n",
    "plt.show()"
   ]
  },
  {
   "cell_type": "markdown",
   "id": "9f0393f5",
   "metadata": {
    "papermill": {
     "duration": 0.004557,
     "end_time": "2025-04-29T07:19:29.957163",
     "exception": false,
     "start_time": "2025-04-29T07:19:29.952606",
     "status": "completed"
    },
    "tags": []
   },
   "source": [
    "#  Rating Prediction (Predicting Rating)"
   ]
  },
  {
   "cell_type": "code",
   "execution_count": 9,
   "id": "8ac95c64",
   "metadata": {
    "execution": {
     "iopub.execute_input": "2025-04-29T07:19:29.967641Z",
     "iopub.status.busy": "2025-04-29T07:19:29.967411Z",
     "iopub.status.idle": "2025-04-29T07:19:30.357297Z",
     "shell.execute_reply": "2025-04-29T07:19:30.356478Z"
    },
    "papermill": {
     "duration": 0.396907,
     "end_time": "2025-04-29T07:19:30.358624",
     "exception": false,
     "start_time": "2025-04-29T07:19:29.961717",
     "status": "completed"
    },
    "tags": []
   },
   "outputs": [
    {
     "name": "stdout",
     "output_type": "stream",
     "text": [
      "\n",
      "--- Task 2: Rating Prediction ---\n",
      "Training Rating Prediction model (Linear SVC)...\n",
      "Evaluating Rating Prediction model...\n",
      "\n",
      "Rating Prediction Accuracy: 0.5900\n",
      "Rating Prediction Mean Absolute Error (MAE): 0.4200\n",
      "Classification Report:\n",
      "              precision    recall  f1-score   support\n",
      "\n",
      "           1       0.36      0.28      0.31        18\n",
      "           2       0.38      0.47      0.42        17\n",
      "           3       0.97      1.00      0.98        32\n",
      "           4       0.44      0.44      0.44        16\n",
      "           5       0.44      0.41      0.42        17\n",
      "\n",
      "    accuracy                           0.59       100\n",
      "   macro avg       0.52      0.52      0.52       100\n",
      "weighted avg       0.58      0.59      0.59       100\n",
      "\n"
     ]
    },
    {
     "data": {
      "image/png": "[encoded data removed]",
      "text/plain": [
       "<Figure size 800x600 with 2 Axes>"
      ]
     },
     "metadata": {},
     "output_type": "display_data"
    }
   ],
   "source": [
    "\n",
    "print(\"\\n--- Task 2: Rating Prediction ---\")\n",
    "\n",
    "# Define features (X) and target (y)\n",
    "# Using the same TF-IDF features\n",
    "X_rating = X_tfidf\n",
    "y_rating = df['Rating'] # --> Changed: rating -> Rating\n",
    "\n",
    "# Split data - stratify might be important due to rating distribution\n",
    "X_train_rate, X_test_rate, y_train_rate, y_test_rate = train_test_split(\n",
    "    X_rating, y_rating, test_size=0.25, random_state=42, stratify=y_rating # --> Changed: y_rating\n",
    ")\n",
    "\n",
    "# Train a Linear SVC model (often good for text classification)\n",
    "print(\"Training Rating Prediction model (Linear SVC)...\")\n",
    "# dual=True can be helpful for smaller samples or when n_features > n_samples\n",
    "# If you encounter convergence issues, you might try dual=False or increase max_iter\n",
    "model_rating = LinearSVC(random_state=42, C=0.5, max_iter=2000, dual=True)\n",
    "model_rating.fit(X_train_rate, y_train_rate)\n",
    "\n",
    "# Predict and evaluate\n",
    "print(\"Evaluating Rating Prediction model...\")\n",
    "y_pred_rate = model_rating.predict(X_test_rate)\n",
    "accuracy_rate = accuracy_score(y_test_rate, y_pred_rate)\n",
    "report_rate = classification_report(y_test_rate, y_pred_rate)\n",
    "mae_rate = mean_absolute_error(y_test_rate, y_pred_rate) # Also show MAE\n",
    "\n",
    "print(f\"\\nRating Prediction Accuracy: {accuracy_rate:.4f}\")\n",
    "print(f\"Rating Prediction Mean Absolute Error (MAE): {mae_rate:.4f}\") # Lower is better\n",
    "print(\"Classification Report:\")\n",
    "print(report_rate)\n",
    "\n",
    "# Confusion Matrix\n",
    "plt.figure(figsize=(8, 6))\n",
    "# Ensure labels are sorted for consistent matrix display\n",
    "rating_labels = sorted(y_rating.unique())\n",
    "cm_rate = confusion_matrix(y_test_rate, y_pred_rate, labels=rating_labels)\n",
    "sns.heatmap(cm_rate, annot=True, fmt='d', cmap='Greens', xticklabels=rating_labels, yticklabels=rating_labels)\n",
    "plt.title('Rating Prediction Confusion Matrix')\n",
    "plt.xlabel('Predicted Rating') # --> Changed: Rating -> Rating\n",
    "plt.ylabel('True Rating') # --> Changed: Rating -> Rating\n",
    "plt.show()\n",
    "\n"
   ]
  },
  {
   "cell_type": "markdown",
   "id": "14dfb3eb",
   "metadata": {
    "papermill": {
     "duration": 0.005224,
     "end_time": "2025-04-29T07:19:30.369902",
     "exception": false,
     "start_time": "2025-04-29T07:19:30.364678",
     "status": "completed"
    },
    "tags": []
   },
   "source": [
    "#  Topic Modeling (Identifying Topics)"
   ]
  },
  {
   "cell_type": "code",
   "execution_count": 10,
   "id": "b3e55c2f",
   "metadata": {
    "execution": {
     "iopub.execute_input": "2025-04-29T07:19:30.381713Z",
     "iopub.status.busy": "2025-04-29T07:19:30.381388Z",
     "iopub.status.idle": "2025-04-29T07:19:32.615986Z",
     "shell.execute_reply": "2025-04-29T07:19:32.614803Z"
    },
    "papermill": {
     "duration": 2.241992,
     "end_time": "2025-04-29T07:19:32.617408",
     "exception": false,
     "start_time": "2025-04-29T07:19:30.375416",
     "status": "completed"
    },
    "tags": []
   },
   "outputs": [
    {
     "name": "stdout",
     "output_type": "stream",
     "text": [
      "\n",
      "--- Task 3: Topic Modeling (LDA) ---\n",
      "Creating CountVectorizer features for LDA...\n",
      "CountVectorizer features created.\n",
      "Training LDA model with 10 topics...\n",
      "LDA model training complete.\n",
      "\n",
      "--- Identified Topics ---\n",
      "Topic #0: process | efficient | information | felt | entire\n",
      "Topic #1: claim | process | representative | damage | felt\n",
      "Topic #2: felt | coverage | agent | sales | needs\n",
      "Topic #3: website | automated | information | like | access\n",
      "Topic #4: service | time | wait | finally | hold\n",
      "Topic #5: online | process | easy | recently | payment\n",
      "Topic #6: service | coverage | questions | representative | regarding\n",
      "Topic #7: claim | explanation | lack | service | incredibly\n",
      "Topic #8: app | renewal | id | paperwork | process\n",
      "Topic #9: discount | loyalty | years | service | appreciated\n"
     ]
    }
   ],
   "source": [
    "\n",
    "print(\"\\n--- Task 3: Topic Modeling (LDA) ---\") # Task number updated\n",
    "\n",
    "# Create CountVectorizer features for LDA\n",
    "print(\"Creating CountVectorizer features for LDA...\")\n",
    "count_vectorizer = CountVectorizer(max_df=0.95, min_df=2, # Ignore terms that appear in >95% or <2 documents\n",
    "                                 max_features=1000,     # Limit features\n",
    "                                 stop_words='english')\n",
    "X_count = count_vectorizer.fit_transform(df['processed_text']) # Using 'processed_text'\n",
    "print(\"CountVectorizer features created.\")\n",
    "\n",
    "# Define the number of topics\n",
    "n_topics = 10# Adjust based on dataset size and desired granularity\n",
    "\n",
    "# Train the LDA model\n",
    "print(f\"Training LDA model with {n_topics} topics...\")\n",
    "lda = LatentDirichletAllocation(n_components=n_topics, random_state=42, n_jobs=-1) # Use all available CPUs\n",
    "lda.fit(X_count)\n",
    "print(\"LDA model training complete.\")\n",
    "\n",
    "# Function to display topics\n",
    "def display_topics(model, feature_names, n_top_words):\n",
    "    print(\"\\n--- Identified Topics ---\")\n",
    "    for topic_idx, topic in enumerate(model.components_):\n",
    "        message = f\"Topic #{topic_idx}: \"\n",
    "        message += \" | \".join([feature_names[i]\n",
    "                             for i in topic.argsort()[:-n_top_words - 1:-1]])\n",
    "        print(message)\n",
    "\n",
    "# Display the top words for each topic\n",
    "n_top_words = 5\n",
    "feature_names = count_vectorizer.get_feature_names_out()\n",
    "display_topics(lda, feature_names, n_top_words)\n"
   ]
  },
  {
   "cell_type": "markdown",
   "id": "2d3b842f",
   "metadata": {
    "papermill": {
     "duration": 0.005526,
     "end_time": "2025-04-29T07:19:32.628829",
     "exception": false,
     "start_time": "2025-04-29T07:19:32.623303",
     "status": "completed"
    },
    "tags": []
   },
   "source": [
    "\n",
    "#  Assign dominant topic to each review"
   ]
  },
  {
   "cell_type": "code",
   "execution_count": 11,
   "id": "a72a4b0c",
   "metadata": {
    "execution": {
     "iopub.execute_input": "2025-04-29T07:19:32.641158Z",
     "iopub.status.busy": "2025-04-29T07:19:32.640830Z",
     "iopub.status.idle": "2025-04-29T07:19:32.697741Z",
     "shell.execute_reply": "2025-04-29T07:19:32.696750Z"
    },
    "papermill": {
     "duration": 0.064779,
     "end_time": "2025-04-29T07:19:32.699011",
     "exception": false,
     "start_time": "2025-04-29T07:19:32.634232",
     "status": "completed"
    },
    "tags": []
   },
   "outputs": [
    {
     "name": "stdout",
     "output_type": "stream",
     "text": [
      "\n",
      "Dominant topic assigned to each review (sample):\n",
      "                                          ReviewText  dominant_topic\n",
      "0  I recently switched my car insurance to Blue I...               2\n",
      "1  I recently switched my car insurance to Blue I...               2\n",
      "2  My recent interaction with Blue Insurance was....               3\n",
      "3  I've been with Blue Insurance for several year...               0\n",
      "4  I've been a Blue Insurance customer for over f...               3\n"
     ]
    }
   ],
   "source": [
    "\n",
    "topic_results = lda.transform(X_count)\n",
    "df['dominant_topic'] = topic_results.argmax(axis=1)\n",
    "print(\"\\nDominant topic assigned to each review (sample):\")\n",
    "print(df[['ReviewText', 'dominant_topic']].head()) # --> Changed: review_text -> ReviewText\n",
    "\n"
   ]
  },
  {
   "cell_type": "code",
   "execution_count": null,
   "id": "d1a5214b",
   "metadata": {
    "papermill": {
     "duration": 0.005506,
     "end_time": "2025-04-29T07:19:32.710104",
     "exception": false,
     "start_time": "2025-04-29T07:19:32.704598",
     "status": "completed"
    },
    "tags": []
   },
   "outputs": [],
   "source": []
  },
  {
   "cell_type": "code",
   "execution_count": null,
   "id": "044196a9",
   "metadata": {
    "papermill": {
     "duration": 0.005423,
     "end_time": "2025-04-29T07:19:32.721167",
     "exception": false,
     "start_time": "2025-04-29T07:19:32.715744",
     "status": "completed"
    },
    "tags": []
   },
   "outputs": [],
   "source": []
  }
 ],
 "metadata": {
  "kaggle": {
   "accelerator": "none",
   "dataSources": [
    {
     "databundleVersionId": 12072147,
     "datasetId": 7274774,
     "sourceId": 11609426,
     "sourceType": "datasetVersion"
    }
   ],
   "dockerImageVersionId": 31012,
   "isGpuEnabled": false,
   "isInternetEnabled": true,
   "language": "python",
   "sourceType": "notebook"
  },
  "kernelspec": {
   "display_name": "Python 3",
   "language": "python",
   "name": "python3"
  },
  "language_info": {
   "codemirror_mode": {
    "name": "ipython",
    "version": 3
   },
   "file_extension": ".py",
   "mimetype": "text/x-python",
   "name": "python",
   "nbconvert_exporter": "python",
   "pygments_lexer": "ipython3",
   "version": "3.11.11"
  },
  "papermill": {
   "default_parameters": {},
   "duration": 16.52055,
   "end_time": "2025-04-29T07:19:35.346740",
   "environment_variables": {},
   "exception": null,
   "input_path": "__notebook__.ipynb",
   "output_path": "__notebook__.ipynb",
   "parameters": {},
   "start_time": "2025-04-29T07:19:18.826190",
   "version": "2.6.0"
  }
 },
 "nbformat": 4,
 "nbformat_minor": 5
}
