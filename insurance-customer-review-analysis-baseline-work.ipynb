{
 "cells": [
  {
   "cell_type": "markdown",
   "id": "008cac6e",
   "metadata": {
    "papermill": {
     "duration": 0.004536,
     "end_time": "2025-04-28T12:47:54.624298",
     "exception": false,
     "start_time": "2025-04-28T12:47:54.619762",
     "status": "completed"
    },
    "tags": []
   },
   "source": [
    "\n",
    "This notebook performs **several NLP tasks** on the insurance customer reviews dataset:\n",
    "1. Exploratory Data Analysis (EDA)\n",
    "2. Sentiment Analysis (predicting 'sentiment')\n",
    "3. Rating Prediction (predicting 'rating')\n",
    "4. Text Classification (predicting 'insurance_type')\n",
    "5. Topic Modeling (identifying topics in 'review_text')"
   ]
  },
  {
   "cell_type": "markdown",
   "id": "beef6c72",
   "metadata": {
    "papermill": {
     "duration": 0.003536,
     "end_time": "2025-04-28T12:47:54.631892",
     "exception": false,
     "start_time": "2025-04-28T12:47:54.628356",
     "status": "completed"
    },
    "tags": []
   },
   "source": [
    "# Import"
   ]
  },
  {
   "cell_type": "code",
   "execution_count": 1,
   "id": "caafc51d",
   "metadata": {
    "execution": {
     "iopub.execute_input": "2025-04-28T12:47:54.640758Z",
     "iopub.status.busy": "2025-04-28T12:47:54.640429Z",
     "iopub.status.idle": "2025-04-28T12:47:59.647035Z",
     "shell.execute_reply": "2025-04-28T12:47:59.645967Z"
    },
    "papermill": {
     "duration": 5.013221,
     "end_time": "2025-04-28T12:47:59.648928",
     "exception": false,
     "start_time": "2025-04-28T12:47:54.635707",
     "status": "completed"
    },
    "tags": []
   },
   "outputs": [],
   "source": [
    "\n",
    "import pandas as pd\n",
    "import numpy as np\n",
    "import matplotlib.pyplot as plt\n",
    "import seaborn as sns\n",
    "import re\n",
    "import string\n",
    "import nltk\n",
    "from nltk.corpus import stopwords\n",
    "from nltk.tokenize import word_tokenize\n",
    "from nltk.stem import PorterStemmer # Optional: for stemming\n",
    "\n",
    "from sklearn.model_selection import train_test_split\n",
    "from sklearn.feature_extraction.text import TfidfVectorizer, CountVectorizer\n",
    "from sklearn.naive_bayes import MultinomialNB\n",
    "from sklearn.linear_model import LogisticRegression\n",
    "from sklearn.svm import LinearSVC\n",
    "from sklearn.metrics import accuracy_score, classification_report, confusion_matrix, mean_absolute_error\n",
    "from sklearn.decomposition import LatentDirichletAllocation\n"
   ]
  },
  {
   "cell_type": "code",
   "execution_count": 2,
   "id": "535b2bb6",
   "metadata": {
    "execution": {
     "iopub.execute_input": "2025-04-28T12:47:59.658778Z",
     "iopub.status.busy": "2025-04-28T12:47:59.658222Z",
     "iopub.status.idle": "2025-04-28T12:47:59.704783Z",
     "shell.execute_reply": "2025-04-28T12:47:59.703431Z"
    },
    "papermill": {
     "duration": 0.053335,
     "end_time": "2025-04-28T12:47:59.706406",
     "exception": false,
     "start_time": "2025-04-28T12:47:59.653071",
     "status": "completed"
    },
    "tags": []
   },
   "outputs": [
    {
     "name": "stdout",
     "output_type": "stream",
     "text": [
      "Dataset loaded successfully.\n",
      "Shape: (400, 8)\n"
     ]
    }
   ],
   "source": [
    "\n",
    "# Download necessary NLTK data (if not already downloaded)\n",
    "try:\n",
    "    nltk.data.find('corpora/stopwords')\n",
    "except nltk.downloader.DownloadError:\n",
    "    nltk.download('stopwords')\n",
    "try:\n",
    "    nltk.data.find('tokenizers/punkt')\n",
    "except nltk.downloader.DownloadError:\n",
    "    nltk.download('punkt')\n",
    "\n",
    "# Set plot style\n",
    "sns.set_style('whitegrid')\n",
    "plt.rcParams['figure.figsize'] = (12, 7)\n",
    "\n",
    "# Load the dataset\n",
    "file_path = '/kaggle/input/insurance-customer-reviews-crm-action-plans/insurance_customer_reviews_gemini_enhanced.csv'\n",
    "try:\n",
    "    df = pd.read_csv(file_path)\n",
    "    print(\"Dataset loaded successfully.\")\n",
    "    print(f\"Shape: {df.shape}\")\n",
    "except FileNotFoundError:\n",
    "    print(f\"Error: File not found at {file_path}\")\n",
    "    print(\"Please ensure the file path is correct.\")"
   ]
  },
  {
   "cell_type": "markdown",
   "id": "14838c7b",
   "metadata": {
    "papermill": {
     "duration": 0.003572,
     "end_time": "2025-04-28T12:47:59.714279",
     "exception": false,
     "start_time": "2025-04-28T12:47:59.710707",
     "status": "completed"
    },
    "tags": []
   },
   "source": [
    "# Exploratory Data Analysis (EDA)"
   ]
  },
  {
   "cell_type": "code",
   "execution_count": 3,
   "id": "93155943",
   "metadata": {
    "execution": {
     "iopub.execute_input": "2025-04-28T12:47:59.723391Z",
     "iopub.status.busy": "2025-04-28T12:47:59.723078Z",
     "iopub.status.idle": "2025-04-28T12:47:59.782182Z",
     "shell.execute_reply": "2025-04-28T12:47:59.780997Z"
    },
    "papermill": {
     "duration": 0.065841,
     "end_time": "2025-04-28T12:47:59.783952",
     "exception": false,
     "start_time": "2025-04-28T12:47:59.718111",
     "status": "completed"
    },
    "tags": []
   },
   "outputs": [
    {
     "name": "stdout",
     "output_type": "stream",
     "text": [
      "\n",
      "Dataset Info:\n",
      "<class 'pandas.core.frame.DataFrame'>\n",
      "RangeIndex: 400 entries, 0 to 399\n",
      "Data columns (total 8 columns):\n",
      " #   Column         Non-Null Count  Dtype \n",
      "---  ------         --------------  ----- \n",
      " 0   ReviewID       400 non-null    int64 \n",
      " 1   CustomerID     400 non-null    int64 \n",
      " 2   ReviewDate     400 non-null    object\n",
      " 3   Rating         400 non-null    int64 \n",
      " 4   ReviewText     400 non-null    object\n",
      " 5   Sentiment      400 non-null    object\n",
      " 6   GeneratedTask  400 non-null    object\n",
      " 7   AIGenerated    400 non-null    bool  \n",
      "dtypes: bool(1), int64(3), object(4)\n",
      "memory usage: 22.4+ KB\n",
      "\n",
      "Descriptive Statistics (Numerical):\n",
      "         ReviewID  CustomerID      Rating\n",
      "count  400.000000  400.000000  400.000000\n",
      "mean   200.500000  193.887500    2.892500\n",
      "std    115.614301  107.367777    1.282598\n",
      "min      1.000000    2.000000    1.000000\n",
      "25%    100.750000  100.000000    2.000000\n",
      "50%    200.500000  201.000000    3.000000\n",
      "75%    300.250000  289.000000    4.000000\n",
      "max    400.000000  360.000000    5.000000\n",
      "\n",
      "Value Counts (Sentiment):\n",
      "Sentiment\n",
      "Positive    186\n",
      "Negative    153\n",
      "Neutral      61\n",
      "Name: count, dtype: int64\n",
      "\n",
      "Value Counts (Rating):\n",
      "Rating\n",
      "1     71\n",
      "2     80\n",
      "3    129\n",
      "4     61\n",
      "5     59\n",
      "Name: count, dtype: int64\n",
      "\n",
      "Missing Values:\n",
      "ReviewID         0\n",
      "CustomerID       0\n",
      "ReviewDate       0\n",
      "Rating           0\n",
      "ReviewText       0\n",
      "Sentiment        0\n",
      "GeneratedTask    0\n",
      "AIGenerated      0\n",
      "dtype: int64\n"
     ]
    }
   ],
   "source": [
    "\n",
    "\n",
    "# Display basic information\n",
    "print(\"\\nDataset Info:\")\n",
    "df.info()\n",
    "\n",
    "# Display descriptive statistics for numerical columns\n",
    "print(\"\\nDescriptive Statistics (Numerical):\")\n",
    "print(df.describe())\n",
    "\n",
    "# Display value counts for categorical columns\n",
    "print(\"\\nValue Counts (Sentiment):\")\n",
    "print(df['Sentiment'].value_counts())\n",
    "\n",
    "print(\"\\nValue Counts (Rating):\")\n",
    "print(df['Rating'].value_counts().sort_index())\n",
    "\n",
    "# Check for missing values\n",
    "print(\"\\nMissing Values:\")\n",
    "print(df.isnull().sum())"
   ]
  },
  {
   "cell_type": "code",
   "execution_count": 4,
   "id": "099b76da",
   "metadata": {
    "execution": {
     "iopub.execute_input": "2025-04-28T12:47:59.793857Z",
     "iopub.status.busy": "2025-04-28T12:47:59.793500Z",
     "iopub.status.idle": "2025-04-28T12:48:00.102309Z",
     "shell.execute_reply": "2025-04-28T12:48:00.101389Z"
    },
    "papermill": {
     "duration": 0.315882,
     "end_time": "2025-04-28T12:48:00.103977",
     "exception": false,
     "start_time": "2025-04-28T12:47:59.788095",
     "status": "completed"
    },
    "tags": []
   },
   "outputs": [
    {
     "data": {
      "image/png": "[encoded data removed]",
      "text/plain": [
       "<Figure size 800x500 with 1 Axes>"
      ]
     },
     "metadata": {},
     "output_type": "display_data"
    }
   ],
   "source": [
    "# Distribution of Ratings\n",
    "plt.figure(figsize=(8, 5))\n",
    "sns.countplot(x='Rating', data=df, palette='viridis', order=sorted(df['Rating'].unique())) # --> Changed: rating -> Rating\n",
    "plt.title('Distribution of Customer Ratings')\n",
    "plt.xlabel('Rating (Stars)') # --> Changed: Rating -> Rating (Stars)\n",
    "plt.ylabel('Number of Reviews')\n",
    "plt.show()\n"
   ]
  },
  {
   "cell_type": "code",
   "execution_count": 5,
   "id": "9855d2a8",
   "metadata": {
    "execution": {
     "iopub.execute_input": "2025-04-28T12:48:00.114181Z",
     "iopub.status.busy": "2025-04-28T12:48:00.113859Z",
     "iopub.status.idle": "2025-04-28T12:48:00.297820Z",
     "shell.execute_reply": "2025-04-28T12:48:00.296870Z"
    },
    "papermill": {
     "duration": 0.190791,
     "end_time": "2025-04-28T12:48:00.299338",
     "exception": false,
     "start_time": "2025-04-28T12:48:00.108547",
     "status": "completed"
    },
    "tags": []
   },
   "outputs": [
    {
     "data": {
      "image/png": "[encoded data removed]",
      "text/plain": [
       "<Figure size 800x500 with 1 Axes>"
      ]
     },
     "metadata": {},
     "output_type": "display_data"
    }
   ],
   "source": [
    "# Distribution of Sentiments\n",
    "plt.figure(figsize=(8, 5))\n",
    "sns.countplot(x='Sentiment', data=df, palette='magma', order=['Positive', 'Neutral', 'Negative']) # --> Changed: sentiment -> Sentiment\n",
    "plt.title('Distribution of Review Sentiments')\n",
    "plt.xlabel('Sentiment') # --> Changed: Sentiment -> Sentiment\n",
    "plt.ylabel('Number of Reviews')\n",
    "plt.show()\n"
   ]
  },
  {
   "cell_type": "markdown",
   "id": "bb0e865c",
   "metadata": {
    "papermill": {
     "duration": 0.004515,
     "end_time": "2025-04-28T12:48:00.308928",
     "exception": false,
     "start_time": "2025-04-28T12:48:00.304413",
     "status": "completed"
    },
    "tags": []
   },
   "source": [
    " # Text Preprocessing"
   ]
  },
  {
   "cell_type": "code",
   "execution_count": 6,
   "id": "df3d1922",
   "metadata": {
    "execution": {
     "iopub.execute_input": "2025-04-28T12:48:00.320623Z",
     "iopub.status.busy": "2025-04-28T12:48:00.319540Z",
     "iopub.status.idle": "2025-04-28T12:48:00.648816Z",
     "shell.execute_reply": "2025-04-28T12:48:00.647636Z"
    },
    "papermill": {
     "duration": 0.336872,
     "end_time": "2025-04-28T12:48:00.650483",
     "exception": false,
     "start_time": "2025-04-28T12:48:00.313611",
     "status": "completed"
    },
    "tags": []
   },
   "outputs": [
    {
     "name": "stdout",
     "output_type": "stream",
     "text": [
      "\n",
      "Preprocessing text...\n",
      "Text preprocessing complete.\n",
      "\n",
      "Sample processed text:\n",
      "                                          ReviewText  \\\n",
      "0  My experience with Acme Insurance was... adequ...   \n",
      "1  I've been with Stellar Insurance for five year...   \n",
      "2  I am utterly disappointed with my experience f...   \n",
      "3  I've been with [Insurance Company Name] for ov...   \n",
      "4  I recently needed to make a small adjustment t...   \n",
      "\n",
      "                                      processed_text  \n",
      "0  experience acme insurance adequate contacted g...  \n",
      "1  ive stellar insurance five years ive always ha...  \n",
      "2  utterly disappointed experience filing water d...  \n",
      "3  ive insurance company name five years generall...  \n",
      "4  recently needed make small adjustment policy –...  \n"
     ]
    }
   ],
   "source": [
    "stop_words = set(stopwords.words('english'))\n",
    "stemmer = PorterStemmer() # Optional stemmer\n",
    "\n",
    "def preprocess_text(text):\n",
    "    \"\"\"Cleans and preprocesses text data.\"\"\"\n",
    "    if not isinstance(text, str):\n",
    "        return \"\" # Return empty string for non-string inputs\n",
    "    text = text.lower() # Lowercase\n",
    "    text = re.sub(r'\\d+', '', text) # Remove numbers\n",
    "    text = text.translate(str.maketrans('', '', string.punctuation)) # Remove punctuation\n",
    "    text = text.strip() # Remove leading/trailing whitespace\n",
    "    tokens = word_tokenize(text) # Tokenize\n",
    "    # Remove stopwords and optionally stem\n",
    "    # processed_tokens = [stemmer.stem(word) for word in tokens if word not in stop_words] # With stemming\n",
    "    processed_tokens = [word for word in tokens if word not in stop_words] # Without stemming\n",
    "    return ' '.join(processed_tokens)\n",
    "\n",
    "# Apply preprocessing to the ReviewText column\n",
    "print(\"\\nPreprocessing text...\")\n",
    "df['processed_text'] = df['ReviewText'].apply(preprocess_text) # --> Changed: review_text -> ReviewText\n",
    "print(\"Text preprocessing complete.\")\n",
    "print(\"\\nSample processed text:\")\n",
    "print(df[['ReviewText', 'processed_text']].head()) # --> Changed: review_text -> ReviewText\n"
   ]
  },
  {
   "cell_type": "markdown",
   "id": "1e406a5d",
   "metadata": {
    "papermill": {
     "duration": 0.005332,
     "end_time": "2025-04-28T12:48:00.661125",
     "exception": false,
     "start_time": "2025-04-28T12:48:00.655793",
     "status": "completed"
    },
    "tags": []
   },
   "source": [
    "# Feature Engineering (TF-IDF)"
   ]
  },
  {
   "cell_type": "code",
   "execution_count": 7,
   "id": "b7dcbde4",
   "metadata": {
    "execution": {
     "iopub.execute_input": "2025-04-28T12:48:00.672434Z",
     "iopub.status.busy": "2025-04-28T12:48:00.672106Z",
     "iopub.status.idle": "2025-04-28T12:48:00.732806Z",
     "shell.execute_reply": "2025-04-28T12:48:00.731628Z"
    },
    "papermill": {
     "duration": 0.068282,
     "end_time": "2025-04-28T12:48:00.734455",
     "exception": false,
     "start_time": "2025-04-28T12:48:00.666173",
     "status": "completed"
    },
    "tags": []
   },
   "outputs": [
    {
     "name": "stdout",
     "output_type": "stream",
     "text": [
      "\n",
      "Creating TF-IDF features...\n",
      "TF-IDF features created.\n",
      "Shape of TF-IDF matrix: (400, 2893)\n"
     ]
    }
   ],
   "source": [
    "# Convert the processed text into numerical features using TF-IDF.\n",
    "\n",
    "# %%\n",
    "tfidf_vectorizer = TfidfVectorizer(max_features=5000) # Limit features to top 5000\n",
    "\n",
    "print(\"\\nCreating TF-IDF features...\")\n",
    "# Create TF-IDF matrix using the 'processed_text' column\n",
    "X_tfidf = tfidf_vectorizer.fit_transform(df['processed_text'])\n",
    "print(\"TF-IDF features created.\")\n",
    "print(f\"Shape of TF-IDF matrix: {X_tfidf.shape}\")\n"
   ]
  },
  {
   "cell_type": "markdown",
   "id": "af10133d",
   "metadata": {
    "papermill": {
     "duration": 0.004698,
     "end_time": "2025-04-28T12:48:00.744461",
     "exception": false,
     "start_time": "2025-04-28T12:48:00.739763",
     "status": "completed"
    },
    "tags": []
   },
   "source": [
    "# Sentiment Analysis (Predicting Sentiment)"
   ]
  },
  {
   "cell_type": "code",
   "execution_count": 8,
   "id": "f6f8ef00",
   "metadata": {
    "execution": {
     "iopub.execute_input": "2025-04-28T12:48:00.755753Z",
     "iopub.status.busy": "2025-04-28T12:48:00.755391Z",
     "iopub.status.idle": "2025-04-28T12:48:01.216357Z",
     "shell.execute_reply": "2025-04-28T12:48:01.215370Z"
    },
    "papermill": {
     "duration": 0.468761,
     "end_time": "2025-04-28T12:48:01.218143",
     "exception": false,
     "start_time": "2025-04-28T12:48:00.749382",
     "status": "completed"
    },
    "tags": []
   },
   "outputs": [
    {
     "name": "stdout",
     "output_type": "stream",
     "text": [
      "\n",
      "--- Task 1: Sentiment Analysis ---\n",
      "Training Sentiment Analysis model (Logistic Regression)...\n",
      "Evaluating Sentiment Analysis model...\n",
      "\n",
      "Sentiment Analysis Accuracy: 0.9600\n",
      "Classification Report:\n",
      "              precision    recall  f1-score   support\n",
      "\n",
      "    Negative       1.00      0.97      0.99        38\n",
      "     Neutral       0.87      0.87      0.87        15\n",
      "    Positive       0.96      0.98      0.97        47\n",
      "\n",
      "    accuracy                           0.96       100\n",
      "   macro avg       0.94      0.94      0.94       100\n",
      "weighted avg       0.96      0.96      0.96       100\n",
      "\n"
     ]
    },
    {
     "data": {
      "image/png": "[encoded data removed]",
      "text/plain": [
       "<Figure size 800x600 with 2 Axes>"
      ]
     },
     "metadata": {},
     "output_type": "display_data"
    }
   ],
   "source": [
    "\n",
    "# %%\n",
    "print(\"\\n--- Task 1: Sentiment Analysis ---\")\n",
    "\n",
    "# Define features (X) and target (y)\n",
    "X_sentiment = X_tfidf\n",
    "y_sentiment = df['Sentiment'] # --> Changed: sentiment -> Sentiment\n",
    "\n",
    "# Split data\n",
    "X_train_sent, X_test_sent, y_train_sent, y_test_sent = train_test_split(\n",
    "    X_sentiment, y_sentiment, test_size=0.25, random_state=42, stratify=y_sentiment\n",
    ")\n",
    "\n",
    "# Train a Logistic Regression model\n",
    "print(\"Training Sentiment Analysis model (Logistic Regression)...\")\n",
    "model_sentiment = LogisticRegression(max_iter=1000, random_state=42)\n",
    "model_sentiment.fit(X_train_sent, y_train_sent)\n",
    "\n",
    "# Predict and evaluate\n",
    "print(\"Evaluating Sentiment Analysis model...\")\n",
    "y_pred_sent = model_sentiment.predict(X_test_sent)\n",
    "accuracy_sent = accuracy_score(y_test_sent, y_pred_sent)\n",
    "report_sent = classification_report(y_test_sent, y_pred_sent)\n",
    "\n",
    "print(f\"\\nSentiment Analysis Accuracy: {accuracy_sent:.4f}\")\n",
    "print(\"Classification Report:\")\n",
    "print(report_sent)\n",
    "\n",
    "# Confusion Matrix\n",
    "plt.figure(figsize=(8, 6))\n",
    "cm_sent = confusion_matrix(y_test_sent, y_pred_sent, labels=model_sentiment.classes_)\n",
    "sns.heatmap(cm_sent, annot=True, fmt='d', cmap='Blues', xticklabels=model_sentiment.classes_, yticklabels=model_sentiment.classes_)\n",
    "plt.title('Sentiment Analysis Confusion Matrix')\n",
    "plt.xlabel('Predicted Label')\n",
    "plt.ylabel('True Label')\n",
    "plt.show()"
   ]
  },
  {
   "cell_type": "markdown",
   "id": "a989989c",
   "metadata": {
    "papermill": {
     "duration": 0.00563,
     "end_time": "2025-04-28T12:48:01.229825",
     "exception": false,
     "start_time": "2025-04-28T12:48:01.224195",
     "status": "completed"
    },
    "tags": []
   },
   "source": [
    "#  Rating Prediction (Predicting Rating)"
   ]
  },
  {
   "cell_type": "code",
   "execution_count": 9,
   "id": "0f519280",
   "metadata": {
    "execution": {
     "iopub.execute_input": "2025-04-28T12:48:01.242305Z",
     "iopub.status.busy": "2025-04-28T12:48:01.242016Z",
     "iopub.status.idle": "2025-04-28T12:48:01.580033Z",
     "shell.execute_reply": "2025-04-28T12:48:01.578793Z"
    },
    "papermill": {
     "duration": 0.346528,
     "end_time": "2025-04-28T12:48:01.581924",
     "exception": false,
     "start_time": "2025-04-28T12:48:01.235396",
     "status": "completed"
    },
    "tags": []
   },
   "outputs": [
    {
     "name": "stdout",
     "output_type": "stream",
     "text": [
      "\n",
      "--- Task 2: Rating Prediction ---\n",
      "Training Rating Prediction model (Linear SVC)...\n",
      "Evaluating Rating Prediction model...\n",
      "\n",
      "Rating Prediction Accuracy: 0.6300\n",
      "Rating Prediction Mean Absolute Error (MAE): 0.3700\n",
      "Classification Report:\n",
      "              precision    recall  f1-score   support\n",
      "\n",
      "           1       0.43      0.33      0.38        18\n",
      "           2       0.50      0.60      0.55        20\n",
      "           3       1.00      1.00      1.00        32\n",
      "           4       0.45      0.67      0.54        15\n",
      "           5       0.38      0.20      0.26        15\n",
      "\n",
      "    accuracy                           0.63       100\n",
      "   macro avg       0.55      0.56      0.54       100\n",
      "weighted avg       0.62      0.63      0.62       100\n",
      "\n"
     ]
    },
    {
     "data": {
      "image/png": "[encoded data removed]",
      "text/plain": [
       "<Figure size 800x600 with 2 Axes>"
      ]
     },
     "metadata": {},
     "output_type": "display_data"
    }
   ],
   "source": [
    "\n",
    "print(\"\\n--- Task 2: Rating Prediction ---\")\n",
    "\n",
    "# Define features (X) and target (y)\n",
    "# Using the same TF-IDF features\n",
    "X_rating = X_tfidf\n",
    "y_rating = df['Rating'] # --> Changed: rating -> Rating\n",
    "\n",
    "# Split data - stratify might be important due to rating distribution\n",
    "X_train_rate, X_test_rate, y_train_rate, y_test_rate = train_test_split(\n",
    "    X_rating, y_rating, test_size=0.25, random_state=42, stratify=y_rating # --> Changed: y_rating\n",
    ")\n",
    "\n",
    "# Train a Linear SVC model (often good for text classification)\n",
    "print(\"Training Rating Prediction model (Linear SVC)...\")\n",
    "# dual=True can be helpful for smaller samples or when n_features > n_samples\n",
    "# If you encounter convergence issues, you might try dual=False or increase max_iter\n",
    "model_rating = LinearSVC(random_state=42, C=0.5, max_iter=2000, dual=True)\n",
    "model_rating.fit(X_train_rate, y_train_rate)\n",
    "\n",
    "# Predict and evaluate\n",
    "print(\"Evaluating Rating Prediction model...\")\n",
    "y_pred_rate = model_rating.predict(X_test_rate)\n",
    "accuracy_rate = accuracy_score(y_test_rate, y_pred_rate)\n",
    "report_rate = classification_report(y_test_rate, y_pred_rate)\n",
    "mae_rate = mean_absolute_error(y_test_rate, y_pred_rate) # Also show MAE\n",
    "\n",
    "print(f\"\\nRating Prediction Accuracy: {accuracy_rate:.4f}\")\n",
    "print(f\"Rating Prediction Mean Absolute Error (MAE): {mae_rate:.4f}\") # Lower is better\n",
    "print(\"Classification Report:\")\n",
    "print(report_rate)\n",
    "\n",
    "# Confusion Matrix\n",
    "plt.figure(figsize=(8, 6))\n",
    "# Ensure labels are sorted for consistent matrix display\n",
    "rating_labels = sorted(y_rating.unique())\n",
    "cm_rate = confusion_matrix(y_test_rate, y_pred_rate, labels=rating_labels)\n",
    "sns.heatmap(cm_rate, annot=True, fmt='d', cmap='Greens', xticklabels=rating_labels, yticklabels=rating_labels)\n",
    "plt.title('Rating Prediction Confusion Matrix')\n",
    "plt.xlabel('Predicted Rating') # --> Changed: Rating -> Rating\n",
    "plt.ylabel('True Rating') # --> Changed: Rating -> Rating\n",
    "plt.show()\n",
    "\n"
   ]
  },
  {
   "cell_type": "markdown",
   "id": "f4657459",
   "metadata": {
    "papermill": {
     "duration": 0.007425,
     "end_time": "2025-04-28T12:48:01.598228",
     "exception": false,
     "start_time": "2025-04-28T12:48:01.590803",
     "status": "completed"
    },
    "tags": []
   },
   "source": [
    "#  Topic Modeling (Identifying Topics)"
   ]
  },
  {
   "cell_type": "code",
   "execution_count": 10,
   "id": "e39083cf",
   "metadata": {
    "execution": {
     "iopub.execute_input": "2025-04-28T12:48:01.615178Z",
     "iopub.status.busy": "2025-04-28T12:48:01.614848Z",
     "iopub.status.idle": "2025-04-28T12:48:04.162875Z",
     "shell.execute_reply": "2025-04-28T12:48:04.161637Z"
    },
    "papermill": {
     "duration": 2.558221,
     "end_time": "2025-04-28T12:48:04.164807",
     "exception": false,
     "start_time": "2025-04-28T12:48:01.606586",
     "status": "completed"
    },
    "tags": []
   },
   "outputs": [
    {
     "name": "stdout",
     "output_type": "stream",
     "text": [
      "\n",
      "--- Task 3: Topic Modeling (LDA) ---\n",
      "Creating CountVectorizer features for LDA...\n",
      "CountVectorizer features created.\n",
      "Training LDA model with 5 topics...\n",
      "LDA model training complete.\n",
      "\n",
      "--- Identified Topics ---\n",
      "Topic #1: insurance | ive | customer | felt | service | years | discount | coverage | policy | loyalty\n",
      "Topic #2: insurance | company | experience | claim | process | phone | incredibly | agent | adjuster | ive\n",
      "Topic #3: insurance | policy | experience | company | damage | coverage | website | customer | claim | felt\n",
      "Topic #4: insurance | process | company | policy | experience | online | recently | efficient | entire | clearly\n",
      "Topic #5: experience | company | claim | insurance | process | time | representative | customer | incredibly | im\n"
     ]
    }
   ],
   "source": [
    "\n",
    "print(\"\\n--- Task 3: Topic Modeling (LDA) ---\") # Task number updated\n",
    "\n",
    "# Create CountVectorizer features for LDA\n",
    "print(\"Creating CountVectorizer features for LDA...\")\n",
    "count_vectorizer = CountVectorizer(max_df=0.95, min_df=2, # Ignore terms that appear in >95% or <2 documents\n",
    "                                 max_features=1000,     # Limit features\n",
    "                                 stop_words='english')\n",
    "X_count = count_vectorizer.fit_transform(df['processed_text']) # Using 'processed_text'\n",
    "print(\"CountVectorizer features created.\")\n",
    "\n",
    "# Define the number of topics\n",
    "n_topics = 5 # Adjust based on dataset size and desired granularity\n",
    "\n",
    "# Train the LDA model\n",
    "print(f\"Training LDA model with {n_topics} topics...\")\n",
    "lda = LatentDirichletAllocation(n_components=n_topics, random_state=42, n_jobs=-1) # Use all available CPUs\n",
    "lda.fit(X_count)\n",
    "print(\"LDA model training complete.\")\n",
    "\n",
    "# Function to display topics\n",
    "def display_topics(model, feature_names, n_top_words):\n",
    "    print(\"\\n--- Identified Topics ---\")\n",
    "    for topic_idx, topic in enumerate(model.components_):\n",
    "        message = f\"Topic #{topic_idx+1}: \"\n",
    "        message += \" | \".join([feature_names[i]\n",
    "                             for i in topic.argsort()[:-n_top_words - 1:-1]])\n",
    "        print(message)\n",
    "\n",
    "# Display the top words for each topic\n",
    "n_top_words = 10\n",
    "feature_names = count_vectorizer.get_feature_names_out()\n",
    "display_topics(lda, feature_names, n_top_words)\n"
   ]
  },
  {
   "cell_type": "markdown",
   "id": "ca4c002b",
   "metadata": {
    "papermill": {
     "duration": 0.006054,
     "end_time": "2025-04-28T12:48:04.177259",
     "exception": false,
     "start_time": "2025-04-28T12:48:04.171205",
     "status": "completed"
    },
    "tags": []
   },
   "source": [
    "\n",
    "#  Assign dominant topic to each review"
   ]
  },
  {
   "cell_type": "code",
   "execution_count": 11,
   "id": "bad22d20",
   "metadata": {
    "execution": {
     "iopub.execute_input": "2025-04-28T12:48:04.191807Z",
     "iopub.status.busy": "2025-04-28T12:48:04.191456Z",
     "iopub.status.idle": "2025-04-28T12:48:04.261011Z",
     "shell.execute_reply": "2025-04-28T12:48:04.259950Z"
    },
    "papermill": {
     "duration": 0.079276,
     "end_time": "2025-04-28T12:48:04.262703",
     "exception": false,
     "start_time": "2025-04-28T12:48:04.183427",
     "status": "completed"
    },
    "tags": []
   },
   "outputs": [
    {
     "name": "stdout",
     "output_type": "stream",
     "text": [
      "\n",
      "Dominant topic assigned to each review (sample):\n",
      "                                          ReviewText  dominant_topic\n",
      "0  My experience with Acme Insurance was... adequ...               4\n",
      "1  I've been with Stellar Insurance for five year...               0\n",
      "2  I am utterly disappointed with my experience f...               4\n",
      "3  I've been with [Insurance Company Name] for ov...               2\n",
      "4  I recently needed to make a small adjustment t...               3\n"
     ]
    }
   ],
   "source": [
    "\n",
    "topic_results = lda.transform(X_count)\n",
    "df['dominant_topic'] = topic_results.argmax(axis=1)\n",
    "print(\"\\nDominant topic assigned to each review (sample):\")\n",
    "print(df[['ReviewText', 'dominant_topic']].head()) # --> Changed: review_text -> ReviewText\n",
    "\n"
   ]
  },
  {
   "cell_type": "code",
   "execution_count": null,
   "id": "9290a32d",
   "metadata": {
    "papermill": {
     "duration": 0.006075,
     "end_time": "2025-04-28T12:48:04.275318",
     "exception": false,
     "start_time": "2025-04-28T12:48:04.269243",
     "status": "completed"
    },
    "tags": []
   },
   "outputs": [],
   "source": []
  }
 ],
 "metadata": {
  "kaggle": {
   "accelerator": "none",
   "dataSources": [
    {
     "datasetId": 7274774,
     "sourceId": 11599822,
     "sourceType": "datasetVersion"
    }
   ],
   "dockerImageVersionId": 31012,
   "isGpuEnabled": false,
   "isInternetEnabled": true,
   "language": "python",
   "sourceType": "notebook"
  },
  "kernelspec": {
   "display_name": "Python 3",
   "language": "python",
   "name": "python3"
  },
  "language_info": {
   "codemirror_mode": {
    "name": "ipython",
    "version": 3
   },
   "file_extension": ".py",
   "mimetype": "text/x-python",
   "name": "python",
   "nbconvert_exporter": "python",
   "pygments_lexer": "ipython3",
   "version": "3.11.11"
  },
  "papermill": {
   "default_parameters": {},
   "duration": 17.247715,
   "end_time": "2025-04-28T12:48:06.902134",
   "environment_variables": {},
   "exception": null,
   "input_path": "__notebook__.ipynb",
   "output_path": "__notebook__.ipynb",
   "parameters": {},
   "start_time": "2025-04-28T12:47:49.654419",
   "version": "2.6.0"
  }
 },
 "nbformat": 4,
 "nbformat_minor": 5
}
