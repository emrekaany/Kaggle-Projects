{
 "cells": [
  {
   "cell_type": "markdown",
   "id": "a7c242cb",
   "metadata": {
    "papermill": {
     "duration": 0.004877,
     "end_time": "2025-04-29T06:23:14.613869",
     "exception": false,
     "start_time": "2025-04-29T06:23:14.608992",
     "status": "completed"
    },
    "tags": []
   },
   "source": [
    "\n",
    "This notebook performs **several NLP tasks** on the insurance customer reviews dataset:\n",
    "1. Exploratory Data Analysis (EDA)\n",
    "2. Sentiment Analysis (predicting 'sentiment')\n",
    "3. Rating Prediction (predicting 'rating')\n",
    "4. Text Classification (predicting 'insurance_type')\n",
    "5. Topic Modeling (identifying topics in 'review_text')"
   ]
  },
  {
   "cell_type": "markdown",
   "id": "82f9dfe9",
   "metadata": {
    "papermill": {
     "duration": 0.003589,
     "end_time": "2025-04-29T06:23:14.621661",
     "exception": false,
     "start_time": "2025-04-29T06:23:14.618072",
     "status": "completed"
    },
    "tags": []
   },
   "source": [
    "# Import"
   ]
  },
  {
   "cell_type": "code",
   "execution_count": 1,
   "id": "e3319695",
   "metadata": {
    "execution": {
     "iopub.execute_input": "2025-04-29T06:23:14.630538Z",
     "iopub.status.busy": "2025-04-29T06:23:14.630168Z",
     "iopub.status.idle": "2025-04-29T06:23:19.922597Z",
     "shell.execute_reply": "2025-04-29T06:23:19.921563Z"
    },
    "papermill": {
     "duration": 5.299057,
     "end_time": "2025-04-29T06:23:19.924504",
     "exception": false,
     "start_time": "2025-04-29T06:23:14.625447",
     "status": "completed"
    },
    "tags": []
   },
   "outputs": [],
   "source": [
    "\n",
    "import pandas as pd\n",
    "import numpy as np\n",
    "import matplotlib.pyplot as plt\n",
    "import seaborn as sns\n",
    "import re\n",
    "import string\n",
    "import nltk\n",
    "from nltk.corpus import stopwords\n",
    "from nltk.tokenize import word_tokenize\n",
    "from nltk.stem import PorterStemmer # Optional: for stemming\n",
    "\n",
    "from sklearn.model_selection import train_test_split\n",
    "from sklearn.feature_extraction.text import TfidfVectorizer, CountVectorizer\n",
    "from sklearn.naive_bayes import MultinomialNB\n",
    "from sklearn.linear_model import LogisticRegression\n",
    "from sklearn.svm import LinearSVC\n",
    "from sklearn.metrics import accuracy_score, classification_report, confusion_matrix, mean_absolute_error\n",
    "from sklearn.decomposition import LatentDirichletAllocation\n"
   ]
  },
  {
   "cell_type": "code",
   "execution_count": 2,
   "id": "95e122fb",
   "metadata": {
    "execution": {
     "iopub.execute_input": "2025-04-29T06:23:19.934499Z",
     "iopub.status.busy": "2025-04-29T06:23:19.934016Z",
     "iopub.status.idle": "2025-04-29T06:23:20.014838Z",
     "shell.execute_reply": "2025-04-29T06:23:20.013598Z"
    },
    "papermill": {
     "duration": 0.08784,
     "end_time": "2025-04-29T06:23:20.016605",
     "exception": false,
     "start_time": "2025-04-29T06:23:19.928765",
     "status": "completed"
    },
    "tags": []
   },
   "outputs": [
    {
     "name": "stdout",
     "output_type": "stream",
     "text": [
      "Dataset loaded successfully.\n",
      "Shape: (400, 8)\n"
     ]
    }
   ],
   "source": [
    "\n",
    "# Download necessary NLTK data (if not already downloaded)\n",
    "try:\n",
    "    nltk.data.find('corpora/stopwords')\n",
    "except nltk.downloader.DownloadError:\n",
    "    nltk.download('stopwords')\n",
    "try:\n",
    "    nltk.data.find('tokenizers/punkt')\n",
    "except nltk.downloader.DownloadError:\n",
    "    nltk.download('punkt')\n",
    "\n",
    "# Set plot style\n",
    "sns.set_style('whitegrid')\n",
    "plt.rcParams['figure.figsize'] = (12, 7)\n",
    "\n",
    "# Load the dataset\n",
    "file_path = '/kaggle/input/insurance-customer-reviews-crm-action-plans/insurance_customer_reviews_gemini_enhanced.csv'\n",
    "try:\n",
    "    df = pd.read_csv(file_path)\n",
    "    print(\"Dataset loaded successfully.\")\n",
    "    print(f\"Shape: {df.shape}\")\n",
    "except FileNotFoundError:\n",
    "    print(f\"Error: File not found at {file_path}\")\n",
    "    print(\"Please ensure the file path is correct.\")"
   ]
  },
  {
   "cell_type": "markdown",
   "id": "77f6afd9",
   "metadata": {
    "papermill": {
     "duration": 0.003742,
     "end_time": "2025-04-29T06:23:20.024499",
     "exception": false,
     "start_time": "2025-04-29T06:23:20.020757",
     "status": "completed"
    },
    "tags": []
   },
   "source": [
    "# Exploratory Data Analysis (EDA)"
   ]
  },
  {
   "cell_type": "code",
   "execution_count": 3,
   "id": "4045842e",
   "metadata": {
    "execution": {
     "iopub.execute_input": "2025-04-29T06:23:20.033526Z",
     "iopub.status.busy": "2025-04-29T06:23:20.033166Z",
     "iopub.status.idle": "2025-04-29T06:23:20.088382Z",
     "shell.execute_reply": "2025-04-29T06:23:20.087050Z"
    },
    "papermill": {
     "duration": 0.061783,
     "end_time": "2025-04-29T06:23:20.090164",
     "exception": false,
     "start_time": "2025-04-29T06:23:20.028381",
     "status": "completed"
    },
    "tags": []
   },
   "outputs": [
    {
     "name": "stdout",
     "output_type": "stream",
     "text": [
      "\n",
      "Dataset Info:\n",
      "<class 'pandas.core.frame.DataFrame'>\n",
      "RangeIndex: 400 entries, 0 to 399\n",
      "Data columns (total 8 columns):\n",
      " #   Column         Non-Null Count  Dtype \n",
      "---  ------         --------------  ----- \n",
      " 0   ReviewID       400 non-null    int64 \n",
      " 1   CustomerID     400 non-null    int64 \n",
      " 2   ReviewDate     400 non-null    object\n",
      " 3   Rating         400 non-null    int64 \n",
      " 4   ReviewText     400 non-null    object\n",
      " 5   Sentiment      400 non-null    object\n",
      " 6   GeneratedTask  400 non-null    object\n",
      " 7   AIGenerated    400 non-null    bool  \n",
      "dtypes: bool(1), int64(3), object(4)\n",
      "memory usage: 22.4+ KB\n",
      "\n",
      "Descriptive Statistics (Numerical):\n",
      "         ReviewID  CustomerID      Rating\n",
      "count  400.000000  400.000000  400.000000\n",
      "mean   200.500000  193.887500    2.892500\n",
      "std    115.614301  107.367777    1.282598\n",
      "min      1.000000    2.000000    1.000000\n",
      "25%    100.750000  100.000000    2.000000\n",
      "50%    200.500000  201.000000    3.000000\n",
      "75%    300.250000  289.000000    4.000000\n",
      "max    400.000000  360.000000    5.000000\n",
      "\n",
      "Value Counts (Sentiment):\n",
      "Sentiment\n",
      "Positive    186\n",
      "Negative    153\n",
      "Neutral      61\n",
      "Name: count, dtype: int64\n",
      "\n",
      "Value Counts (Rating):\n",
      "Rating\n",
      "1     71\n",
      "2     80\n",
      "3    129\n",
      "4     61\n",
      "5     59\n",
      "Name: count, dtype: int64\n",
      "\n",
      "Missing Values:\n",
      "ReviewID         0\n",
      "CustomerID       0\n",
      "ReviewDate       0\n",
      "Rating           0\n",
      "ReviewText       0\n",
      "Sentiment        0\n",
      "GeneratedTask    0\n",
      "AIGenerated      0\n",
      "dtype: int64\n"
     ]
    }
   ],
   "source": [
    "\n",
    "\n",
    "# Display basic information\n",
    "print(\"\\nDataset Info:\")\n",
    "df.info()\n",
    "\n",
    "# Display descriptive statistics for numerical columns\n",
    "print(\"\\nDescriptive Statistics (Numerical):\")\n",
    "print(df.describe())\n",
    "\n",
    "# Display value counts for categorical columns\n",
    "print(\"\\nValue Counts (Sentiment):\")\n",
    "print(df['Sentiment'].value_counts())\n",
    "\n",
    "print(\"\\nValue Counts (Rating):\")\n",
    "print(df['Rating'].value_counts().sort_index())\n",
    "\n",
    "# Check for missing values\n",
    "print(\"\\nMissing Values:\")\n",
    "print(df.isnull().sum())"
   ]
  },
  {
   "cell_type": "code",
   "execution_count": 4,
   "id": "935cf5d2",
   "metadata": {
    "execution": {
     "iopub.execute_input": "2025-04-29T06:23:20.099862Z",
     "iopub.status.busy": "2025-04-29T06:23:20.099540Z",
     "iopub.status.idle": "2025-04-29T06:23:20.415626Z",
     "shell.execute_reply": "2025-04-29T06:23:20.414561Z"
    },
    "papermill": {
     "duration": 0.322805,
     "end_time": "2025-04-29T06:23:20.417130",
     "exception": false,
     "start_time": "2025-04-29T06:23:20.094325",
     "status": "completed"
    },
    "tags": []
   },
   "outputs": [
    {
     "data": {
      "image/png": "[encoded data removed]",
      "text/plain": [
       "<Figure size 800x500 with 1 Axes>"
      ]
     },
     "metadata": {},
     "output_type": "display_data"
    }
   ],
   "source": [
    "# Distribution of Ratings\n",
    "plt.figure(figsize=(8, 5))\n",
    "sns.countplot(x='Rating', data=df, palette='viridis', order=sorted(df['Rating'].unique())) # --> Changed: rating -> Rating\n",
    "plt.title('Distribution of Customer Ratings')\n",
    "plt.xlabel('Rating (Stars)') # --> Changed: Rating -> Rating (Stars)\n",
    "plt.ylabel('Number of Reviews')\n",
    "plt.show()\n"
   ]
  },
  {
   "cell_type": "code",
   "execution_count": 5,
   "id": "59a9de18",
   "metadata": {
    "execution": {
     "iopub.execute_input": "2025-04-29T06:23:20.428038Z",
     "iopub.status.busy": "2025-04-29T06:23:20.427326Z",
     "iopub.status.idle": "2025-04-29T06:23:20.618652Z",
     "shell.execute_reply": "2025-04-29T06:23:20.617604Z"
    },
    "papermill": {
     "duration": 0.198357,
     "end_time": "2025-04-29T06:23:20.620282",
     "exception": false,
     "start_time": "2025-04-29T06:23:20.421925",
     "status": "completed"
    },
    "tags": []
   },
   "outputs": [
    {
     "data": {
      "image/png": "[encoded data removed]",
      "text/plain": [
       "<Figure size 800x500 with 1 Axes>"
      ]
     },
     "metadata": {},
     "output_type": "display_data"
    }
   ],
   "source": [
    "# Distribution of Sentiments\n",
    "plt.figure(figsize=(8, 5))\n",
    "sns.countplot(x='Sentiment', data=df, palette='magma', order=['Positive', 'Neutral', 'Negative']) # --> Changed: sentiment -> Sentiment\n",
    "plt.title('Distribution of Review Sentiments')\n",
    "plt.xlabel('Sentiment') # --> Changed: Sentiment -> Sentiment\n",
    "plt.ylabel('Number of Reviews')\n",
    "plt.show()\n"
   ]
  },
  {
   "cell_type": "markdown",
   "id": "1eb973a0",
   "metadata": {
    "papermill": {
     "duration": 0.00451,
     "end_time": "2025-04-29T06:23:20.629859",
     "exception": false,
     "start_time": "2025-04-29T06:23:20.625349",
     "status": "completed"
    },
    "tags": []
   },
   "source": [
    " # Text Preprocessing"
   ]
  },
  {
   "cell_type": "code",
   "execution_count": 6,
   "id": "a2acd0cc",
   "metadata": {
    "execution": {
     "iopub.execute_input": "2025-04-29T06:23:20.640756Z",
     "iopub.status.busy": "2025-04-29T06:23:20.640416Z",
     "iopub.status.idle": "2025-04-29T06:23:20.968623Z",
     "shell.execute_reply": "2025-04-29T06:23:20.967460Z"
    },
    "papermill": {
     "duration": 0.335551,
     "end_time": "2025-04-29T06:23:20.970242",
     "exception": false,
     "start_time": "2025-04-29T06:23:20.634691",
     "status": "completed"
    },
    "tags": []
   },
   "outputs": [
    {
     "name": "stdout",
     "output_type": "stream",
     "text": [
      "\n",
      "Preprocessing text...\n",
      "Text preprocessing complete.\n",
      "\n",
      "Sample processed text:\n",
      "                                          ReviewText  \\\n",
      "0  My experience with Acme Insurance was... adequ...   \n",
      "1  I've been with Stellar Insurance for five year...   \n",
      "2  I am utterly disappointed with my experience f...   \n",
      "3  I've been with [Insurance Company Name] for ov...   \n",
      "4  I recently needed to make a small adjustment t...   \n",
      "5  My experience with InsureEasy's website was......   \n",
      "6  I recently had a minor fender bender, and I wa...   \n",
      "7  I've been with SecureSure Insurance for severa...   \n",
      "8  I recently had to navigate some rather complex...   \n",
      "9  I'm extremely frustrated with my recent experi...   \n",
      "\n",
      "                                      processed_text  \n",
      "0  acme adequate contacted get quote renters agen...  \n",
      "1  stellar five years always happy service year t...  \n",
      "2  utterly disappointed filing water damage claim...  \n",
      "3  five years generally satisfied however recentl...  \n",
      "4  recently needed make small adjustment – simple...  \n",
      "5  insureeasys website adequate able find basic i...  \n",
      "6  recently minor fender bender honestly dreading...  \n",
      "7  securesure several years always generally sati...  \n",
      "8  recently navigate rather complex questions reg...  \n",
      "9  extremely frustrated recent filing claim outse...  \n"
     ]
    }
   ],
   "source": [
    "standard_stopwords = set(stopwords.words('english'))\n",
    "stemmer = PorterStemmer() # Optional stemmer\n",
    "\n",
    "\n",
    "custom_stopwords = ['insurance', 'policy', 'ive', 'company', 'name', 'im', 'experience', 'customer', 'customers']\n",
    "\n",
    "stop_words=standard_stopwords.union(set(custom_stopwords))\n",
    "\n",
    "def preprocess_text(text):\n",
    "    \"\"\"Cleans and preprocesses text data.\"\"\"\n",
    "    if not isinstance(text, str):\n",
    "        return \"\" # Return empty string for non-string inputs\n",
    "    text = text.lower() # Lowercase\n",
    "    text = re.sub(r'\\d+', '', text) # Remove numbers\n",
    "    text = text.translate(str.maketrans('', '', string.punctuation)) # Remove punctuation\n",
    "    text = text.strip() # Remove leading/trailing whitespace\n",
    "    tokens = word_tokenize(text) # Tokenize\n",
    "    # Remove stopwords and optionally stem\n",
    "    # processed_tokens = [stemmer.stem(word) for word in tokens if word not in stop_words] # With stemming\n",
    "    processed_tokens = [word for word in tokens if word not in stop_words] # Without stemming\n",
    "    return ' '.join(processed_tokens)\n",
    "\n",
    "# Apply preprocessing to the ReviewText column\n",
    "print(\"\\nPreprocessing text...\")\n",
    "df['processed_text'] = df['ReviewText'].apply(preprocess_text) # --> Changed: review_text -> ReviewText\n",
    "print(\"Text preprocessing complete.\")\n",
    "print(\"\\nSample processed text:\")\n",
    "print(df[['ReviewText', 'processed_text']].head(10)) # --> Changed: review_text -> ReviewText\n"
   ]
  },
  {
   "cell_type": "markdown",
   "id": "f3195180",
   "metadata": {
    "papermill": {
     "duration": 0.004749,
     "end_time": "2025-04-29T06:23:20.980918",
     "exception": false,
     "start_time": "2025-04-29T06:23:20.976169",
     "status": "completed"
    },
    "tags": []
   },
   "source": [
    "# Feature Engineering (TF-IDF)"
   ]
  },
  {
   "cell_type": "code",
   "execution_count": 7,
   "id": "939a5650",
   "metadata": {
    "execution": {
     "iopub.execute_input": "2025-04-29T06:23:20.992436Z",
     "iopub.status.busy": "2025-04-29T06:23:20.991943Z",
     "iopub.status.idle": "2025-04-29T06:23:21.046769Z",
     "shell.execute_reply": "2025-04-29T06:23:21.045646Z"
    },
    "papermill": {
     "duration": 0.062542,
     "end_time": "2025-04-29T06:23:21.048381",
     "exception": false,
     "start_time": "2025-04-29T06:23:20.985839",
     "status": "completed"
    },
    "tags": []
   },
   "outputs": [
    {
     "name": "stdout",
     "output_type": "stream",
     "text": [
      "\n",
      "Creating TF-IDF features...\n",
      "TF-IDF features created.\n",
      "Shape of TF-IDF matrix: (400, 2884)\n"
     ]
    }
   ],
   "source": [
    "# Convert the processed text into numerical features using TF-IDF.\n",
    "\n",
    "# %%\n",
    "tfidf_vectorizer = TfidfVectorizer(max_features=5000) # Limit features to top 5000\n",
    "\n",
    "print(\"\\nCreating TF-IDF features...\")\n",
    "# Create TF-IDF matrix using the 'processed_text' column\n",
    "X_tfidf = tfidf_vectorizer.fit_transform(df['processed_text'])\n",
    "print(\"TF-IDF features created.\")\n",
    "print(f\"Shape of TF-IDF matrix: {X_tfidf.shape}\")\n"
   ]
  },
  {
   "cell_type": "markdown",
   "id": "2af56468",
   "metadata": {
    "papermill": {
     "duration": 0.004639,
     "end_time": "2025-04-29T06:23:21.058332",
     "exception": false,
     "start_time": "2025-04-29T06:23:21.053693",
     "status": "completed"
    },
    "tags": []
   },
   "source": [
    "# Sentiment Analysis (Predicting Sentiment)"
   ]
  },
  {
   "cell_type": "code",
   "execution_count": 8,
   "id": "eb03befa",
   "metadata": {
    "execution": {
     "iopub.execute_input": "2025-04-29T06:23:21.069828Z",
     "iopub.status.busy": "2025-04-29T06:23:21.068998Z",
     "iopub.status.idle": "2025-04-29T06:23:21.517531Z",
     "shell.execute_reply": "2025-04-29T06:23:21.516592Z"
    },
    "papermill": {
     "duration": 0.455951,
     "end_time": "2025-04-29T06:23:21.519108",
     "exception": false,
     "start_time": "2025-04-29T06:23:21.063157",
     "status": "completed"
    },
    "tags": []
   },
   "outputs": [
    {
     "name": "stdout",
     "output_type": "stream",
     "text": [
      "\n",
      "--- Task 1: Sentiment Analysis ---\n",
      "Training Sentiment Analysis model (Logistic Regression)...\n",
      "Evaluating Sentiment Analysis model...\n",
      "\n",
      "Sentiment Analysis Accuracy: 0.9500\n",
      "Classification Report:\n",
      "              precision    recall  f1-score   support\n",
      "\n",
      "    Negative       1.00      0.97      0.99        38\n",
      "     Neutral       0.86      0.80      0.83        15\n",
      "    Positive       0.94      0.98      0.96        47\n",
      "\n",
      "    accuracy                           0.95       100\n",
      "   macro avg       0.93      0.92      0.92       100\n",
      "weighted avg       0.95      0.95      0.95       100\n",
      "\n"
     ]
    },
    {
     "data": {
      "image/png": "[encoded data removed]",
      "text/plain": [
       "<Figure size 800x600 with 2 Axes>"
      ]
     },
     "metadata": {},
     "output_type": "display_data"
    }
   ],
   "source": [
    "\n",
    "# %%\n",
    "print(\"\\n--- Task 1: Sentiment Analysis ---\")\n",
    "\n",
    "# Define features (X) and target (y)\n",
    "X_sentiment = X_tfidf\n",
    "y_sentiment = df['Sentiment'] # --> Changed: sentiment -> Sentiment\n",
    "\n",
    "# Split data\n",
    "X_train_sent, X_test_sent, y_train_sent, y_test_sent = train_test_split(\n",
    "    X_sentiment, y_sentiment, test_size=0.25, random_state=42, stratify=y_sentiment\n",
    ")\n",
    "\n",
    "# Train a Logistic Regression model\n",
    "print(\"Training Sentiment Analysis model (Logistic Regression)...\")\n",
    "model_sentiment = LogisticRegression(max_iter=1000, random_state=42)\n",
    "model_sentiment.fit(X_train_sent, y_train_sent)\n",
    "\n",
    "# Predict and evaluate\n",
    "print(\"Evaluating Sentiment Analysis model...\")\n",
    "y_pred_sent = model_sentiment.predict(X_test_sent)\n",
    "accuracy_sent = accuracy_score(y_test_sent, y_pred_sent)\n",
    "report_sent = classification_report(y_test_sent, y_pred_sent)\n",
    "\n",
    "print(f\"\\nSentiment Analysis Accuracy: {accuracy_sent:.4f}\")\n",
    "print(\"Classification Report:\")\n",
    "print(report_sent)\n",
    "\n",
    "# Confusion Matrix\n",
    "plt.figure(figsize=(8, 6))\n",
    "cm_sent = confusion_matrix(y_test_sent, y_pred_sent, labels=model_sentiment.classes_)\n",
    "sns.heatmap(cm_sent, annot=True, fmt='d', cmap='Blues', xticklabels=model_sentiment.classes_, yticklabels=model_sentiment.classes_)\n",
    "plt.title('Sentiment Analysis Confusion Matrix')\n",
    "plt.xlabel('Predicted Label')\n",
    "plt.ylabel('True Label')\n",
    "plt.show()"
   ]
  },
  {
   "cell_type": "markdown",
   "id": "77819084",
   "metadata": {
    "papermill": {
     "duration": 0.005865,
     "end_time": "2025-04-29T06:23:21.530944",
     "exception": false,
     "start_time": "2025-04-29T06:23:21.525079",
     "status": "completed"
    },
    "tags": []
   },
   "source": [
    "#  Rating Prediction (Predicting Rating)"
   ]
  },
  {
   "cell_type": "code",
   "execution_count": 9,
   "id": "12c947f3",
   "metadata": {
    "execution": {
     "iopub.execute_input": "2025-04-29T06:23:21.544259Z",
     "iopub.status.busy": "2025-04-29T06:23:21.543550Z",
     "iopub.status.idle": "2025-04-29T06:23:21.882154Z",
     "shell.execute_reply": "2025-04-29T06:23:21.881174Z"
    },
    "papermill": {
     "duration": 0.347099,
     "end_time": "2025-04-29T06:23:21.883766",
     "exception": false,
     "start_time": "2025-04-29T06:23:21.536667",
     "status": "completed"
    },
    "tags": []
   },
   "outputs": [
    {
     "name": "stdout",
     "output_type": "stream",
     "text": [
      "\n",
      "--- Task 2: Rating Prediction ---\n",
      "Training Rating Prediction model (Linear SVC)...\n",
      "Evaluating Rating Prediction model...\n",
      "\n",
      "Rating Prediction Accuracy: 0.6100\n",
      "Rating Prediction Mean Absolute Error (MAE): 0.4000\n",
      "Classification Report:\n",
      "              precision    recall  f1-score   support\n",
      "\n",
      "           1       0.40      0.33      0.36        18\n",
      "           2       0.48      0.55      0.51        20\n",
      "           3       0.97      1.00      0.98        32\n",
      "           4       0.45      0.67      0.54        15\n",
      "           5       0.29      0.13      0.18        15\n",
      "\n",
      "    accuracy                           0.61       100\n",
      "   macro avg       0.52      0.54      0.52       100\n",
      "weighted avg       0.59      0.61      0.59       100\n",
      "\n"
     ]
    },
    {
     "data": {
      "image/png": "[encoded data removed]",
      "text/plain": [
       "<Figure size 800x600 with 2 Axes>"
      ]
     },
     "metadata": {},
     "output_type": "display_data"
    }
   ],
   "source": [
    "\n",
    "print(\"\\n--- Task 2: Rating Prediction ---\")\n",
    "\n",
    "# Define features (X) and target (y)\n",
    "# Using the same TF-IDF features\n",
    "X_rating = X_tfidf\n",
    "y_rating = df['Rating'] # --> Changed: rating -> Rating\n",
    "\n",
    "# Split data - stratify might be important due to rating distribution\n",
    "X_train_rate, X_test_rate, y_train_rate, y_test_rate = train_test_split(\n",
    "    X_rating, y_rating, test_size=0.25, random_state=42, stratify=y_rating # --> Changed: y_rating\n",
    ")\n",
    "\n",
    "# Train a Linear SVC model (often good for text classification)\n",
    "print(\"Training Rating Prediction model (Linear SVC)...\")\n",
    "# dual=True can be helpful for smaller samples or when n_features > n_samples\n",
    "# If you encounter convergence issues, you might try dual=False or increase max_iter\n",
    "model_rating = LinearSVC(random_state=42, C=0.5, max_iter=2000, dual=True)\n",
    "model_rating.fit(X_train_rate, y_train_rate)\n",
    "\n",
    "# Predict and evaluate\n",
    "print(\"Evaluating Rating Prediction model...\")\n",
    "y_pred_rate = model_rating.predict(X_test_rate)\n",
    "accuracy_rate = accuracy_score(y_test_rate, y_pred_rate)\n",
    "report_rate = classification_report(y_test_rate, y_pred_rate)\n",
    "mae_rate = mean_absolute_error(y_test_rate, y_pred_rate) # Also show MAE\n",
    "\n",
    "print(f\"\\nRating Prediction Accuracy: {accuracy_rate:.4f}\")\n",
    "print(f\"Rating Prediction Mean Absolute Error (MAE): {mae_rate:.4f}\") # Lower is better\n",
    "print(\"Classification Report:\")\n",
    "print(report_rate)\n",
    "\n",
    "# Confusion Matrix\n",
    "plt.figure(figsize=(8, 6))\n",
    "# Ensure labels are sorted for consistent matrix display\n",
    "rating_labels = sorted(y_rating.unique())\n",
    "cm_rate = confusion_matrix(y_test_rate, y_pred_rate, labels=rating_labels)\n",
    "sns.heatmap(cm_rate, annot=True, fmt='d', cmap='Greens', xticklabels=rating_labels, yticklabels=rating_labels)\n",
    "plt.title('Rating Prediction Confusion Matrix')\n",
    "plt.xlabel('Predicted Rating') # --> Changed: Rating -> Rating\n",
    "plt.ylabel('True Rating') # --> Changed: Rating -> Rating\n",
    "plt.show()\n",
    "\n"
   ]
  },
  {
   "cell_type": "markdown",
   "id": "dd25dc66",
   "metadata": {
    "papermill": {
     "duration": 0.006007,
     "end_time": "2025-04-29T06:23:21.896331",
     "exception": false,
     "start_time": "2025-04-29T06:23:21.890324",
     "status": "completed"
    },
    "tags": []
   },
   "source": [
    "#  Topic Modeling (Identifying Topics)"
   ]
  },
  {
   "cell_type": "code",
   "execution_count": 10,
   "id": "1a9a9e70",
   "metadata": {
    "execution": {
     "iopub.execute_input": "2025-04-29T06:23:21.910655Z",
     "iopub.status.busy": "2025-04-29T06:23:21.910353Z",
     "iopub.status.idle": "2025-04-29T06:23:24.391719Z",
     "shell.execute_reply": "2025-04-29T06:23:24.390661Z"
    },
    "papermill": {
     "duration": 2.490281,
     "end_time": "2025-04-29T06:23:24.393268",
     "exception": false,
     "start_time": "2025-04-29T06:23:21.902987",
     "status": "completed"
    },
    "tags": []
   },
   "outputs": [
    {
     "name": "stdout",
     "output_type": "stream",
     "text": [
      "\n",
      "--- Task 3: Topic Modeling (LDA) ---\n",
      "Creating CountVectorizer features for LDA...\n",
      "CountVectorizer features created.\n",
      "Training LDA model with 10 topics...\n",
      "LDA model training complete.\n",
      "\n",
      "--- Identified Topics ---\n",
      "Topic #1: process | entire | claim | recommend | incredibly\n",
      "Topic #2: felt | coverage | service | renewal | didnt\n",
      "Topic #3: damage | claim | felt | process | left\n",
      "Topic #4: claim | different | information | representative | incredibly\n",
      "Topic #5: online | process | easy | confirmation | payment\n",
      "Topic #6: app | online | website | information | easily\n",
      "Topic #7: needed | felt | interaction | automated | process\n",
      "Topic #8: agent | incredibly | recent | trying | service\n",
      "Topic #9: time | service | unacceptable | representative | years\n",
      "Topic #10: representative | minutes | interaction | answered | polite\n"
     ]
    }
   ],
   "source": [
    "\n",
    "print(\"\\n--- Task 3: Topic Modeling (LDA) ---\") # Task number updated\n",
    "\n",
    "# Create CountVectorizer features for LDA\n",
    "print(\"Creating CountVectorizer features for LDA...\")\n",
    "count_vectorizer = CountVectorizer(max_df=0.95, min_df=2, # Ignore terms that appear in >95% or <2 documents\n",
    "                                 max_features=1000,     # Limit features\n",
    "                                 stop_words='english')\n",
    "X_count = count_vectorizer.fit_transform(df['processed_text']) # Using 'processed_text'\n",
    "print(\"CountVectorizer features created.\")\n",
    "\n",
    "# Define the number of topics\n",
    "n_topics = 10# Adjust based on dataset size and desired granularity\n",
    "\n",
    "# Train the LDA model\n",
    "print(f\"Training LDA model with {n_topics} topics...\")\n",
    "lda = LatentDirichletAllocation(n_components=n_topics, random_state=42, n_jobs=-1) # Use all available CPUs\n",
    "lda.fit(X_count)\n",
    "print(\"LDA model training complete.\")\n",
    "\n",
    "# Function to display topics\n",
    "def display_topics(model, feature_names, n_top_words):\n",
    "    print(\"\\n--- Identified Topics ---\")\n",
    "    for topic_idx, topic in enumerate(model.components_):\n",
    "        message = f\"Topic #{topic_idx+1}: \"\n",
    "        message += \" | \".join([feature_names[i]\n",
    "                             for i in topic.argsort()[:-n_top_words - 1:-1]])\n",
    "        print(message)\n",
    "\n",
    "# Display the top words for each topic\n",
    "n_top_words = 5\n",
    "feature_names = count_vectorizer.get_feature_names_out()\n",
    "display_topics(lda, feature_names, n_top_words)\n"
   ]
  },
  {
   "cell_type": "markdown",
   "id": "779c7b2e",
   "metadata": {
    "papermill": {
     "duration": 0.005931,
     "end_time": "2025-04-29T06:23:24.405815",
     "exception": false,
     "start_time": "2025-04-29T06:23:24.399884",
     "status": "completed"
    },
    "tags": []
   },
   "source": [
    "\n",
    "#  Assign dominant topic to each review"
   ]
  },
  {
   "cell_type": "code",
   "execution_count": 11,
   "id": "e240d631",
   "metadata": {
    "execution": {
     "iopub.execute_input": "2025-04-29T06:23:24.419897Z",
     "iopub.status.busy": "2025-04-29T06:23:24.419525Z",
     "iopub.status.idle": "2025-04-29T06:23:24.479661Z",
     "shell.execute_reply": "2025-04-29T06:23:24.478534Z"
    },
    "papermill": {
     "duration": 0.069351,
     "end_time": "2025-04-29T06:23:24.481345",
     "exception": false,
     "start_time": "2025-04-29T06:23:24.411994",
     "status": "completed"
    },
    "tags": []
   },
   "outputs": [
    {
     "name": "stdout",
     "output_type": "stream",
     "text": [
      "\n",
      "Dominant topic assigned to each review (sample):\n",
      "                                          ReviewText  dominant_topic\n",
      "0  My experience with Acme Insurance was... adequ...               6\n",
      "1  I've been with Stellar Insurance for five year...               1\n",
      "2  I am utterly disappointed with my experience f...               2\n",
      "3  I've been with [Insurance Company Name] for ov...               3\n",
      "4  I recently needed to make a small adjustment t...               4\n"
     ]
    }
   ],
   "source": [
    "\n",
    "topic_results = lda.transform(X_count)\n",
    "df['dominant_topic'] = topic_results.argmax(axis=1)\n",
    "print(\"\\nDominant topic assigned to each review (sample):\")\n",
    "print(df[['ReviewText', 'dominant_topic']].head()) # --> Changed: review_text -> ReviewText\n",
    "\n"
   ]
  },
  {
   "cell_type": "code",
   "execution_count": null,
   "id": "c07c0f21",
   "metadata": {
    "papermill": {
     "duration": 0.006323,
     "end_time": "2025-04-29T06:23:24.494189",
     "exception": false,
     "start_time": "2025-04-29T06:23:24.487866",
     "status": "completed"
    },
    "tags": []
   },
   "outputs": [],
   "source": []
  },
  {
   "cell_type": "code",
   "execution_count": null,
   "id": "69e8e322",
   "metadata": {
    "papermill": {
     "duration": 0.006138,
     "end_time": "2025-04-29T06:23:24.506752",
     "exception": false,
     "start_time": "2025-04-29T06:23:24.500614",
     "status": "completed"
    },
    "tags": []
   },
   "outputs": [],
   "source": []
  }
 ],
 "metadata": {
  "kaggle": {
   "accelerator": "none",
   "dataSources": [
    {
     "datasetId": 7274774,
     "sourceId": 11599822,
     "sourceType": "datasetVersion"
    }
   ],
   "dockerImageVersionId": 31012,
   "isGpuEnabled": false,
   "isInternetEnabled": true,
   "language": "python",
   "sourceType": "notebook"
  },
  "kernelspec": {
   "display_name": "Python 3",
   "language": "python",
   "name": "python3"
  },
  "language_info": {
   "codemirror_mode": {
    "name": "ipython",
    "version": 3
   },
   "file_extension": ".py",
   "mimetype": "text/x-python",
   "name": "python",
   "nbconvert_exporter": "python",
   "pygments_lexer": "ipython3",
   "version": "3.11.11"
  },
  "papermill": {
   "default_parameters": {},
   "duration": 17.493754,
   "end_time": "2025-04-29T06:23:27.133362",
   "environment_variables": {},
   "exception": null,
   "input_path": "__notebook__.ipynb",
   "output_path": "__notebook__.ipynb",
   "parameters": {},
   "start_time": "2025-04-29T06:23:09.639608",
   "version": "2.6.0"
  }
 },
 "nbformat": 4,
 "nbformat_minor": 5
}
